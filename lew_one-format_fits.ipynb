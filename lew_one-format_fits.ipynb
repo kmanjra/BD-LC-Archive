{
 "cells": [
  {
   "cell_type": "code",
   "execution_count": 1,
   "id": "ded0b6a0",
   "metadata": {},
   "outputs": [],
   "source": [
    "import pandas as pd\n",
    "import numpy as np\n",
    "import scipy\n",
    "from scipy import io\n",
    "from scipy.stats import mannwhitneyu\n",
    "from scipy.stats import wilcoxon\n",
    "import os\n",
    "\n",
    "import matplotlib\n",
    "import matplotlib.pyplot as plt\n",
    "import matplotlib.gridspec as gridspec\n",
    "from matplotlib.animation import FuncAnimation\n",
    "import glob\n",
    "import random\n",
    "\n",
    "from scipy.optimize import curve_fit\n",
    "\n",
    "from astropy.io import fits\n",
    "from astropy.time import Time\n",
    "from astropy import units as u\n",
    "import scipy.integrate as integrate\n",
    "import lightkurve\n",
    "\n",
    "from matplotlib.path import Path\n",
    "import matplotlib.patches as patches\n",
    "%matplotlib inline\n",
    "\n",
    "import math\n",
    "import datetime as dt\n",
    "import lightkurve.io as l\n",
    "from lightkurve.io.generic import read_generic_lightcurve"
   ]
  },
  {
   "cell_type": "code",
   "execution_count": 2,
   "id": "c303d19c",
   "metadata": {},
   "outputs": [
    {
     "data": {
      "text/html": [
       "<div>\n",
       "<style scoped>\n",
       "    .dataframe tbody tr th:only-of-type {\n",
       "        vertical-align: middle;\n",
       "    }\n",
       "\n",
       "    .dataframe tbody tr th {\n",
       "        vertical-align: top;\n",
       "    }\n",
       "\n",
       "    .dataframe thead th {\n",
       "        text-align: right;\n",
       "    }\n",
       "</style>\n",
       "<table border=\"1\" class=\"dataframe\">\n",
       "  <thead>\n",
       "    <tr style=\"text-align: right;\">\n",
       "      <th></th>\n",
       "      <th>0</th>\n",
       "      <th>1</th>\n",
       "      <th>2</th>\n",
       "    </tr>\n",
       "  </thead>\n",
       "  <tbody>\n",
       "    <tr>\n",
       "      <th>0</th>\n",
       "      <td>57545.768677</td>\n",
       "      <td>1.021543e-12</td>\n",
       "      <td>2.238771e-15</td>\n",
       "    </tr>\n",
       "    <tr>\n",
       "      <th>1</th>\n",
       "      <td>57545.771224</td>\n",
       "      <td>1.022142e-12</td>\n",
       "      <td>2.240582e-15</td>\n",
       "    </tr>\n",
       "    <tr>\n",
       "      <th>2</th>\n",
       "      <td>57545.773770</td>\n",
       "      <td>1.021269e-12</td>\n",
       "      <td>2.238520e-15</td>\n",
       "    </tr>\n",
       "    <tr>\n",
       "      <th>3</th>\n",
       "      <td>57545.776316</td>\n",
       "      <td>1.022127e-12</td>\n",
       "      <td>2.241971e-15</td>\n",
       "    </tr>\n",
       "    <tr>\n",
       "      <th>4</th>\n",
       "      <td>57545.778863</td>\n",
       "      <td>1.024151e-12</td>\n",
       "      <td>2.245980e-15</td>\n",
       "    </tr>\n",
       "    <tr>\n",
       "      <th>...</th>\n",
       "      <td>...</td>\n",
       "      <td>...</td>\n",
       "      <td>...</td>\n",
       "    </tr>\n",
       "    <tr>\n",
       "      <th>61</th>\n",
       "      <td>57546.109569</td>\n",
       "      <td>9.435823e-13</td>\n",
       "      <td>2.085027e-15</td>\n",
       "    </tr>\n",
       "    <tr>\n",
       "      <th>62</th>\n",
       "      <td>57546.112115</td>\n",
       "      <td>9.405443e-13</td>\n",
       "      <td>2.079661e-15</td>\n",
       "    </tr>\n",
       "    <tr>\n",
       "      <th>63</th>\n",
       "      <td>57546.114661</td>\n",
       "      <td>9.422597e-13</td>\n",
       "      <td>2.082339e-15</td>\n",
       "    </tr>\n",
       "    <tr>\n",
       "      <th>64</th>\n",
       "      <td>57546.117208</td>\n",
       "      <td>9.434389e-13</td>\n",
       "      <td>2.084663e-15</td>\n",
       "    </tr>\n",
       "    <tr>\n",
       "      <th>65</th>\n",
       "      <td>57546.119754</td>\n",
       "      <td>9.417108e-13</td>\n",
       "      <td>2.083182e-15</td>\n",
       "    </tr>\n",
       "  </tbody>\n",
       "</table>\n",
       "<p>66 rows × 3 columns</p>\n",
       "</div>"
      ],
      "text/plain": [
       "               0             1             2\n",
       "0   57545.768677  1.021543e-12  2.238771e-15\n",
       "1   57545.771224  1.022142e-12  2.240582e-15\n",
       "2   57545.773770  1.021269e-12  2.238520e-15\n",
       "3   57545.776316  1.022127e-12  2.241971e-15\n",
       "4   57545.778863  1.024151e-12  2.245980e-15\n",
       "..           ...           ...           ...\n",
       "61  57546.109569  9.435823e-13  2.085027e-15\n",
       "62  57546.112115  9.405443e-13  2.079661e-15\n",
       "63  57546.114661  9.422597e-13  2.082339e-15\n",
       "64  57546.117208  9.434389e-13  2.084663e-15\n",
       "65  57546.119754  9.417108e-13  2.083182e-15\n",
       "\n",
       "[66 rows x 3 columns]"
      ]
     },
     "execution_count": 2,
     "metadata": {},
     "output_type": "execute_result"
    }
   ],
   "source": [
    "data = pd.read_csv(\"C:/Users/kmanj/Manjavacas Research/Lew_2016/wise0047_rp_lightcurve.txt\",sep=' ',header=None, comment=\"#\")\n",
    "data"
   ]
  },
  {
   "cell_type": "code",
   "execution_count": 3,
   "id": "ec5e315b",
   "metadata": {},
   "outputs": [
    {
     "data": {
      "text/plain": [
       "<ErrorbarContainer object of 3 artists>"
      ]
     },
     "execution_count": 3,
     "metadata": {},
     "output_type": "execute_result"
    },
    {
     "data": {
      "image/png": "[encoded data removed]",
      "text/plain": [
       "<Figure size 640x480 with 1 Axes>"
      ]
     },
     "metadata": {},
     "output_type": "display_data"
    }
   ],
   "source": [
    "plt.errorbar(x = data[0], y = data[1], xerr = None, yerr = data[2], fmt = '.')"
   ]
  },
  {
   "cell_type": "code",
   "execution_count": 4,
   "id": "f783a750",
   "metadata": {},
   "outputs": [],
   "source": [
    "flux = data[1]\n",
    "a = 0\n",
    "\n",
    "for i in flux:\n",
    "    a += i\n",
    "\n",
    "b = a / len(data[1])\n",
    "\n",
    "flux_norm = []\n",
    "\n",
    "for i in flux:\n",
    "    flux_norm.append( i / b)"
   ]
  },
  {
   "cell_type": "code",
   "execution_count": 5,
   "id": "c54b3a54",
   "metadata": {},
   "outputs": [
    {
     "data": {
      "text/plain": [
       "Text(0.5, 1.0, '2MASS J00470038+6803543, SpT: L9')"
      ]
     },
     "execution_count": 5,
     "metadata": {},
     "output_type": "execute_result"
    },
    {
     "data": {
      "image/png": "[encoded data removed]",
      "text/plain": [
       "<Figure size 640x480 with 1 Axes>"
      ]
     },
     "metadata": {},
     "output_type": "display_data"
    }
   ],
   "source": [
    "plt.errorbar(x = data[0], y = flux_norm, xerr = None, yerr = data[2], fmt = '.',ls='none', linewidth = 0.2, color = 'black')\n",
    "plt.xlabel('Time (mjd)')\n",
    "plt.ylabel('Normalized Flux')\n",
    "plt.title('2MASS J00470038+6803543, SpT: L9')"
   ]
  },
  {
   "cell_type": "code",
   "execution_count": 6,
   "id": "9e573a98",
   "metadata": {},
   "outputs": [],
   "source": [
    "Reference = 'Lew et al 2016 ApJL 829 L32'\n",
    "Telescope = 'Hubble Space Telescope'\n",
    "Object = '2MASS J00470038+6803543'\n",
    "SpectralType = 'L9'\n",
    "Jmag = '15.604 +/- 0.068'\n",
    "Hmag = '13.968 +/- 0.04'\n",
    "Kmag = '13.053 +/- 0.029'\n",
    "RA = 11.75613337463\n",
    "DEC = 68.06414417626\n",
    "Instrument = 'HST/WFC3'\n",
    "Date_obs = ' 2016 June 6'\n",
    "filter_1 = 'G141 grism'\n",
    "TSTART = data[0][0]\n",
    "TSTOP = data[0][len(data[0]) - 1]\n",
    "dir_save_txt = \"C:/Users/kmanj/Manjavacas Research/Lew_2016/1F/\"\n",
    "dir_save_fits = \"C:/Users/kmanj/FITS_BD_Files/Data/Lew_2016/\""
   ]
  },
  {
   "cell_type": "code",
   "execution_count": 7,
   "id": "99f8e3c3",
   "metadata": {},
   "outputs": [
    {
     "data": {
      "text/plain": [
       "57545.76867743"
      ]
     },
     "execution_count": 7,
     "metadata": {},
     "output_type": "execute_result"
    }
   ],
   "source": [
    "data[0][0]"
   ]
  },
  {
   "cell_type": "raw",
   "id": "4937516b",
   "metadata": {},
   "source": [
    "newframe = pd.DataFrame()\n",
    "newframe['Time'] = data[0]\n",
    "newframe['Flux'] = flux_norm\n",
    "newframe['eFlux'] = data[2]\n",
    "\n",
    "nombre_base_archivo = \"{}{}\".format(dir_save_txt, '2MASS_J00470038+6803543_Lew2016.dat')\n",
    "with open(nombre_base_archivo, \"w\") as f:\n",
    "    f.write(\"{}{}\".format(\"#  ----------------------------------------------------------------------------------\",'\\n'))\n",
    "    f.write(\"{}{}{}\".format('# Light Curve of ',Object,'\\n'))\n",
    "    f.write(\"{}{}{}{}{}{}{}\".format('# Originally observed with ',Instrument,' on ',Date_obs, ' in ',filter_1,'\\n'))\n",
    "    f.write(\"{}{}{}\".format('# Originally published in ',Reference,'\\n'))\n",
    "    f.write(\"{}{}\".format(\"#\",'\\n'))\n",
    "    f.write(\"{}{}\".format(\"# PLEASE CITE THE ORIGINAL DATA REFERENCE WHEN PUBLISHING OR PRESENTING THESE DATA\",'\\n'))\n",
    "    f.write(\"{}{}\".format(\"#\",'\\n'))\n",
    "    f.write(\"{}{}{}\".format('# Near infrared spectral type:',SpectralType,'\\n'))\n",
    "    f.write(\"{}{}{}\".format('# J magnitude = ',Jmag,'\\n'))\n",
    "    f.write(\"{}{}{}\".format('# H magnitude = ',Hmag,'\\n'))\n",
    "    f.write(\"{}{}{}\".format('# K magnitude = ',Kmag,'\\n'))\n",
    "    f.write(\"{}{}\".format('#  time (hr)   flux (normalized)','\\n'))\n",
    "    f.write(\"{}{}\".format(\"#  ----------------------------------------------------------------------------------\",'\\n'))\n",
    "    newframe.to_csv(f, sep='\\t', index=False)   # Write the DataFrame below the comment"
   ]
  },
  {
   "cell_type": "code",
   "execution_count": 8,
   "id": "5afbf30c",
   "metadata": {},
   "outputs": [
    {
     "data": {
      "text/html": [
       "<div><i>LightCurve length=66</i>\n",
       "<table id=\"table2643231599552\" class=\"table-striped table-bordered table-condensed\">\n",
       "<thead><tr><th>time</th><th>flux</th><th>flux_err</th></tr></thead>\n",
       "<thead><tr><th></th><th></th><th></th></tr></thead>\n",
       "<thead><tr><th>Time</th><th>float64</th><th>float64</th></tr></thead>\n",
       "<tr><td>57545.76867743</td><td>1.0244561787214175</td><td>2.238770567035432e-15</td></tr>\n",
       "<tr><td>57545.77122372</td><td>1.0250573117803128</td><td>2.2405822520707108e-15</td></tr>\n",
       "<tr><td>57545.77377002</td><td>1.0241817595898253</td><td>2.2385202058193144e-15</td></tr>\n",
       "<tr><td>57545.77631632</td><td>1.0250414325541641</td><td>2.2419710176838395e-15</td></tr>\n",
       "<tr><td>57545.77886261</td><td>1.0270716273338762</td><td>2.245980449177138e-15</td></tr>\n",
       "<tr><td>57545.78140891</td><td>1.0278370495069278</td><td>2.2496546433334226e-15</td></tr>\n",
       "<tr><td>57545.783955205</td><td>1.0280975604634783</td><td>2.2488953618840018e-15</td></tr>\n",
       "<tr><td>57545.7865015</td><td>1.028198998303068</td><td>2.2492507538802355e-15</td></tr>\n",
       "<tr><td>57545.7890478</td><td>1.0288370015380623</td><td>2.252161938243869e-15</td></tr>\n",
       "<tr><td>...</td><td>...</td><td>...</td></tr>\n",
       "<tr><td>57546.096837245</td><td>0.949405562381433</td><td>2.0878974105121947e-15</td></tr>\n",
       "<tr><td>57546.099383534995</td><td>0.947962718133153</td><td>2.0866683897247072e-15</td></tr>\n",
       "<tr><td>57546.101929835</td><td>0.9475577680869338</td><td>2.0858369586464994e-15</td></tr>\n",
       "<tr><td>57546.104476135006</td><td>0.9472262025217327</td><td>2.086045170596257e-15</td></tr>\n",
       "<tr><td>57546.107022425</td><td>0.9440458622725257</td><td>2.079933317158613e-15</td></tr>\n",
       "<tr><td>57546.109568725005</td><td>0.9462731915495586</td><td>2.0850265453387228e-15</td></tr>\n",
       "<tr><td>57546.112115020005</td><td>0.9432265147109988</td><td>2.0796605641278534e-15</td></tr>\n",
       "<tr><td>57546.114661315005</td><td>0.9449468577968433</td><td>2.082338921667189e-15</td></tr>\n",
       "<tr><td>57546.117207615</td><td>0.9461294208659693</td><td>2.084663243217203e-15</td></tr>\n",
       "<tr><td>57546.119753905004</td><td>0.9443963492787587</td><td>2.083182263951491e-15</td></tr>\n",
       "</table></div>"
      ],
      "text/plain": [
       "<LightCurve length=66>\n",
       "       time               flux               flux_err       \n",
       "                                                            \n",
       "       Time             float64              float64        \n",
       "------------------ ------------------ ----------------------\n",
       "    57545.76867743 1.0244561787214175  2.238770567035432e-15\n",
       "    57545.77122372 1.0250573117803128 2.2405822520707108e-15\n",
       "    57545.77377002 1.0241817595898253 2.2385202058193144e-15\n",
       "    57545.77631632 1.0250414325541641 2.2419710176838395e-15\n",
       "    57545.77886261 1.0270716273338762  2.245980449177138e-15\n",
       "    57545.78140891 1.0278370495069278 2.2496546433334226e-15\n",
       "   57545.783955205 1.0280975604634783 2.2488953618840018e-15\n",
       "     57545.7865015  1.028198998303068 2.2492507538802355e-15\n",
       "     57545.7890478 1.0288370015380623  2.252161938243869e-15\n",
       "               ...                ...                    ...\n",
       "   57546.096837245  0.949405562381433 2.0878974105121947e-15\n",
       "57546.099383534995  0.947962718133153 2.0866683897247072e-15\n",
       "   57546.101929835 0.9475577680869338 2.0858369586464994e-15\n",
       "57546.104476135006 0.9472262025217327  2.086045170596257e-15\n",
       "   57546.107022425 0.9440458622725257  2.079933317158613e-15\n",
       "57546.109568725005 0.9462731915495586 2.0850265453387228e-15\n",
       "57546.112115020005 0.9432265147109988 2.0796605641278534e-15\n",
       "57546.114661315005 0.9449468577968433  2.082338921667189e-15\n",
       "   57546.117207615 0.9461294208659693  2.084663243217203e-15\n",
       "57546.119753905004 0.9443963492787587  2.083182263951491e-15"
      ]
     },
     "execution_count": 8,
     "metadata": {},
     "output_type": "execute_result"
    }
   ],
   "source": [
    "lc = l.LightCurve(time = list(data[0]) * u.d, flux = list(flux_norm) * u.dimensionless_unscaled, flux_err = list(data[2]) * u.dimensionless_unscaled)\n",
    "lc"
   ]
  },
  {
   "cell_type": "code",
   "execution_count": 10,
   "id": "80bfb12a",
   "metadata": {},
   "outputs": [
    {
     "data": {
      "text/plain": [
       "<Axes: xlabel='Time [JD]', ylabel='Flux'>"
      ]
     },
     "execution_count": 10,
     "metadata": {},
     "output_type": "execute_result"
    },
    {
     "data": {
      "image/png": "[encoded data removed]",
      "text/plain": [
       "<Figure size 848.5x400 with 1 Axes>"
      ]
     },
     "metadata": {},
     "output_type": "display_data"
    }
   ],
   "source": [
    "lc.scatter()"
   ]
  },
  {
   "cell_type": "code",
   "execution_count": 9,
   "id": "69dd8e1e",
   "metadata": {},
   "outputs": [
    {
     "data": {
      "text/plain": [
       "[<astropy.io.fits.hdu.image.PrimaryHDU object at 0x000002676CF3BE80>, <astropy.io.fits.hdu.table.BinTableHDU object at 0x000002676CF38C70>]"
      ]
     },
     "execution_count": 9,
     "metadata": {},
     "output_type": "execute_result"
    }
   ],
   "source": [
    "lc.to_fits(path = dir_save_fits + '2MASS_J00470038+6803543_Lew2016.fits')"
   ]
  },
  {
   "cell_type": "code",
   "execution_count": 11,
   "id": "c72b6a21",
   "metadata": {},
   "outputs": [],
   "source": [
    "with fits.open(dir_save_fits + '2MASS_J00470038+6803543_Lew2016.fits', mode = 'update') as f:\n",
    "    f[0].header['OBJECT'] = Object\n",
    "    f[0].header['SPECTYPE'] = SpectralType\n",
    "    f[0].header['DATE_OBS'] = Date_obs\n",
    "    f[0].header['TSTART'] = TSTART\n",
    "    f[0].header['TSTOP'] = TSTOP\n",
    "    f[0].header['TIMESYS'] = 'mjd'\n",
    "    f[0].header['TELESCOP'] = Telescope\n",
    "    f[0].header['INSTRUME'] = Instrument\n",
    "    f[0].header['FILTER'] = filter_1\n",
    "    f[0].header['VOREF'] = Reference\n",
    "    f[0].header['RA_OBJ'] = RA\n",
    "    f[0].header['DEC_OBJ'] = DEC\n",
    "    f[0].header['JMAG'] = Jmag\n",
    "    f[0].header['HMAG'] = Hmag\n",
    "    f[0].header['KMAG'] = Kmag\n",
    "    f[1].header['TUNIT1'] = 'mjd'"
   ]
  }
 ],
 "metadata": {
  "kernelspec": {
   "display_name": "Python 3 (ipykernel)",
   "language": "python",
   "name": "python3"
  },
  "language_info": {
   "codemirror_mode": {
    "name": "ipython",
    "version": 3
   },
   "file_extension": ".py",
   "mimetype": "text/x-python",
   "name": "python",
   "nbconvert_exporter": "python",
   "pygments_lexer": "ipython3",
   "version": "3.10.9"
  }
 },
 "nbformat": 4,
 "nbformat_minor": 5
}
