{
 "cells": [
  {
   "cell_type": "code",
   "execution_count": 1,
   "id": "c273aed1",
   "metadata": {},
   "outputs": [],
   "source": [
    "import pandas as pd\n",
    "import numpy as np\n",
    "import scipy\n",
    "from scipy import io\n",
    "from scipy.stats import mannwhitneyu\n",
    "from scipy.stats import wilcoxon\n",
    "import os\n",
    "\n",
    "import matplotlib\n",
    "import matplotlib.pyplot as plt\n",
    "import matplotlib.gridspec as gridspec\n",
    "from matplotlib.animation import FuncAnimation\n",
    "import glob\n",
    "import random\n",
    "\n",
    "from scipy.optimize import curve_fit\n",
    "\n",
    "from astropy.io import fits\n",
    "from astropy.time import Time\n",
    "from astropy import units as u\n",
    "import scipy.integrate as integrate\n",
    "import lightkurve\n",
    "\n",
    "from matplotlib.path import Path\n",
    "import matplotlib.patches as patches\n",
    "%matplotlib inline\n",
    "\n",
    "import math\n",
    "import datetime as dt\n",
    "import lightkurve.io as l\n",
    "from lightkurve.io.generic import read_generic_lightcurve"
   ]
  },
  {
   "cell_type": "code",
   "execution_count": 2,
   "id": "bdb02000",
   "metadata": {},
   "outputs": [],
   "source": [
    "def clean_text(str):\n",
    "    s = result = ''.join([i for i in archivo[20:] if not i.isdigit()])\n",
    "    t = s.replace('_curves.txt', '')\n",
    "    u = t.replace('+', '')\n",
    "    u = u.replace('-', '')\n",
    "    if 'KsJs' in u:\n",
    "        u = u.replace('KsJs', 'Ks Js')\n",
    "    if u[0] == '_':\n",
    "        u = u[1:]\n",
    "    if 'AB' in u:\n",
    "        u = u.replace('AB', '')\n",
    "    return u"
   ]
  },
  {
   "cell_type": "code",
   "execution_count": 3,
   "id": "246aa92e",
   "metadata": {},
   "outputs": [],
   "source": [
    "#repository like the one we have online\n",
    "general_data = pd.read_csv(\"C:/Users/kmanj/FITS_BD_Files/Repository_Data/Liu_Repo.csv\", encoding ='latin1')"
   ]
  },
  {
   "cell_type": "code",
   "execution_count": 4,
   "id": "c13b4781",
   "metadata": {},
   "outputs": [],
   "source": [
    "dir = \"C:/Users/kmanj/Manjavacas Research/Liu_2024/Liu2024/special/\"\n",
    "dir_save = \"C:/Users/kmanj/FITS_BD_Files/Data/Liu_2024/Special/\""
   ]
  },
  {
   "cell_type": "code",
   "execution_count": 5,
   "id": "f7b6efb7",
   "metadata": {},
   "outputs": [
    {
     "data": {
      "text/plain": [
       "['2022_02_10_J0819-0335Js_Js_curves.txt',\n",
       " '2022_02_11_J0819+2103Js_Js_curves.txt',\n",
       " '2022_02_12_J0819-0335Js_Js_curves.txt',\n",
       " '2022_12_03_J0819-0335_Js_curves.txt',\n",
       " '2022_12_04_J0819-0335_Js_curves.txt']"
      ]
     },
     "execution_count": 5,
     "metadata": {},
     "output_type": "execute_result"
    }
   ],
   "source": [
    "dwarfs_files = os.listdir(dir)\n",
    "dwarf_dat = [archive for archive in dwarfs_files if archive.endswith(\".txt\")]\n",
    "dwarf_dat"
   ]
  },
  {
   "cell_type": "code",
   "execution_count": 6,
   "id": "4f8ec4f9",
   "metadata": {},
   "outputs": [
    {
     "data": {
      "text/plain": [
       "['J0819+21', 'J0819+21', 'J0819+21', 'J0819+21', 'J0819+21']"
      ]
     },
     "execution_count": 6,
     "metadata": {},
     "output_type": "execute_result"
    }
   ],
   "source": [
    "new_name_file = []\n",
    "new_name = []\n",
    "date_obs = []\n",
    "band_obs = []\n",
    "\n",
    "for archivo in dwarf_dat:\n",
    "    band_obs.append(clean_text(archivo))\n",
    "    \n",
    "for archivo in dwarf_dat:\n",
    "    date_obs.append(archivo[0:10])\n",
    "\n",
    "# Iterate over the elements of the first list.\n",
    "for archivo in dwarf_dat:\n",
    "    if 'W' in archivo:\n",
    "        if 'WISE' in archivo:\n",
    "            first_5_characteres = archivo[15:20]\n",
    "        else:\n",
    "            first_5_characteres = 'J' + archivo[12:16]\n",
    "    # Extract the first 5 characters of the file name\n",
    "    elif '2M' in archivo:\n",
    "        if '2MASS' in archivo:\n",
    "            first_5_characteres = archivo[16:21]\n",
    "        else:\n",
    "            first_5_characteres = 'J' + archivo[13:17]\n",
    "    elif 'SDSS' in archivo:\n",
    "        if 'SDSSJ' in archivo:\n",
    "            first_5_characteres = archivo[15:20]\n",
    "        else:\n",
    "            first_5_characteres = 'J' + archivo[15:19]\n",
    "    elif 'PSO' in archivo:\n",
    "        first_5_characteres = 'J1112'\n",
    "    else:\n",
    "        first_5_characteres = archivo[11:16]\n",
    "    \n",
    "    # Iterate over the elements of the second list.\n",
    "    for valor in general_data['Name_file']:\n",
    "        # Extract the first 5 characters of the reference value\n",
    "        valor = str(valor)\n",
    "        first_5_values = valor[:5]\n",
    "        \n",
    "        # Compare the first 5 characters of the two elements\n",
    "        if first_5_characteres == first_5_values:\n",
    "            # Modify the file name to the desired format\n",
    "            nuevo_nombre = valor + \".dat\"\n",
    "            # Add the new name to the new list\n",
    "            new_name.append(valor)\n",
    "            new_name_file.append(nuevo_nombre)\n",
    "            # Break the inner loop once a match is found.\n",
    "            break\n",
    "\n",
    "            \n",
    "new_name_file;\n",
    "new_name\n",
    "#date_obs;\n",
    "#band_obs;"
   ]
  },
  {
   "cell_type": "code",
   "execution_count": 7,
   "id": "247dfc02",
   "metadata": {},
   "outputs": [
    {
     "data": {
      "text/plain": [
       "[            0         1         2\n",
       " 0    0.000000  1.001159  0.003659\n",
       " 1    0.019634  1.005030  0.003659\n",
       " 2    0.039293  0.999525  0.003659\n",
       " 3    0.060332  1.013909  0.003659\n",
       " 4    0.080010  1.013433  0.003659\n",
       " ..        ...       ...       ...\n",
       " 222  4.563287  0.997176  0.003659\n",
       " 223  4.582841  0.997620  0.003659\n",
       " 224  4.604404  0.988299  0.003659\n",
       " 225  4.623686  0.990807  0.003659\n",
       " 226  4.643230  0.990882  0.003659\n",
       " \n",
       " [227 rows x 3 columns],\n",
       "            0         1         2\n",
       " 0   0.000000  1.048685  0.025658\n",
       " 1   0.062253  1.017374  0.025658\n",
       " 2   0.121812  1.020358  0.025658\n",
       " 3   0.183903  0.963871  0.025658\n",
       " 4   0.244604  0.994401  0.025658\n",
       " 5   0.306078  1.016508  0.025658\n",
       " 6   0.366041  1.022152  0.025658\n",
       " 7   0.426846  1.019441  0.025658\n",
       " 8   0.487224  0.968054  0.025658\n",
       " 9   0.548701  1.001728  0.025658\n",
       " 10  0.607971  0.990499  0.025658\n",
       " 11  0.670363  0.974910  0.025658\n",
       " 12  0.731005  0.984093  0.025658\n",
       " 13  0.791248  1.001925  0.025658\n",
       " 14  0.852983  1.004116  0.025658\n",
       " 15  0.914489  1.008286  0.025658\n",
       " 16  0.974513  1.028116  0.025658\n",
       " 17  1.035567  1.020627  0.025658\n",
       " 18  1.095885  0.979066  0.025658\n",
       " 19  1.157239  1.014217  0.025658\n",
       " 20  1.216909  0.943310  0.025658\n",
       " 21  1.279307  1.015764  0.025658\n",
       " 22  1.339320  1.016787  0.025658\n",
       " 23  1.400544  1.014215  0.025658\n",
       " 24  1.461575  0.991439  0.025658\n",
       " 25  1.522666  1.018791  0.025658\n",
       " 26  1.581792  1.019459  0.025658\n",
       " 27  1.643336  1.000582  0.025658\n",
       " 28  1.703859  1.026087  0.025658\n",
       " 29  1.764662  1.015209  0.025658\n",
       " 30  1.824668  1.010997  0.025658\n",
       " 31  1.887204  0.970145  0.025658\n",
       " 32  1.947567  1.016501  0.025658\n",
       " 33  2.009937  1.039875  0.025658\n",
       " 34  2.070802  0.995652  0.025658\n",
       " 35  2.132424  1.026950  0.025658\n",
       " 36  2.191613  0.991710  0.025658\n",
       " 37  2.254019  1.006818  0.025658\n",
       " 38  2.313696  1.022825  0.025658\n",
       " 39  2.374372  0.964484  0.025658\n",
       " 40  2.434356  1.037877  0.025658\n",
       " 41  2.496269  1.020847  0.025658\n",
       " 42  2.555664  1.004297  0.025658\n",
       " 43  2.616666  0.994694  0.025658\n",
       " 44  2.676631  0.993261  0.025658\n",
       " 45  2.739595  1.045930  0.025658\n",
       " 46  2.799228  0.982708  0.025658\n",
       " 47  2.861496  1.034276  0.025658\n",
       " 48  2.921640  0.990715  0.025658\n",
       " 49  2.984018  0.950098  0.025658\n",
       " 50  3.044101  1.005781  0.025658\n",
       " 51  3.105946  0.988575  0.025658\n",
       " 52  3.165208  1.005795  0.025658\n",
       " 53  3.226848  1.007343  0.025658\n",
       " 54  3.287350  0.972194  0.025658\n",
       " 55  3.348581  0.975252  0.025658\n",
       " 56  3.408539  1.015361  0.025658\n",
       " 57  3.470587  0.990447  0.025658\n",
       " 58  3.530959  0.969702  0.025658,\n",
       "             0         1         2\n",
       " 0    0.000000  1.002809  0.004154\n",
       " 1    0.019350  1.003910  0.004154\n",
       " 2    0.038701  1.000972  0.004154\n",
       " 3    0.059309  0.995893  0.004154\n",
       " 4    0.078660  0.994960  0.004154\n",
       " ..        ...       ...       ...\n",
       " 151  3.053820  0.998373  0.004154\n",
       " 152  3.073157  0.997178  0.004154\n",
       " 153  3.093738  0.996869  0.004154\n",
       " 154  3.113091  0.992988  0.004154\n",
       " 155  3.132715  0.997278  0.004154\n",
       " \n",
       " [156 rows x 3 columns],\n",
       "             0         1         2\n",
       " 0    0.000000  1.012639  0.004723\n",
       " 1    0.020031  1.015003  0.004723\n",
       " 2    0.039390  1.010379  0.004723\n",
       " 3    0.060014  0.992498  0.004723\n",
       " 4    0.079368  0.993609  0.004723\n",
       " ..        ...       ...       ...\n",
       " 193  3.909440  0.977984  0.004723\n",
       " 194  3.928940  0.977928  0.004723\n",
       " 195  3.949614  0.976259  0.004723\n",
       " 196  3.969647  0.977985  0.004723\n",
       " 197  3.989719  0.977866  0.004723\n",
       " \n",
       " [198 rows x 3 columns],\n",
       "             0         1         2\n",
       " 0    0.000000  1.006449  0.004375\n",
       " 1    0.019663  0.997658  0.004375\n",
       " 2    0.039200  0.992691  0.004375\n",
       " 3    0.059853  1.004599  0.004375\n",
       " 4    0.079220  1.000499  0.004375\n",
       " ..        ...       ...       ...\n",
       " 157  3.168903  1.001735  0.004375\n",
       " 158  3.188442  1.006543  0.004375\n",
       " 159  3.209029  1.007055  0.004375\n",
       " 160  3.229062  1.018544  0.004375\n",
       " 161  3.248406  1.001487  0.004375\n",
       " \n",
       " [162 rows x 3 columns]]"
      ]
     },
     "execution_count": 7,
     "metadata": {},
     "output_type": "execute_result"
    }
   ],
   "source": [
    "#lecture of the data\n",
    "dwarfs_data = []\n",
    "for i in range(len(new_name_file)):\n",
    "    data = pd.read_csv(\"{}{}\".format(dir,dwarf_dat[i]), comment='#', header=None, sep=' ')\n",
    "    dwarfs_data.append(data)\n",
    "dwarfs_data"
   ]
  },
  {
   "cell_type": "code",
   "execution_count": 8,
   "id": "383a9424",
   "metadata": {
    "scrolled": false
   },
   "outputs": [],
   "source": [
    "dwarfs_data;"
   ]
  },
  {
   "cell_type": "code",
   "execution_count": 9,
   "id": "2d69364a",
   "metadata": {},
   "outputs": [],
   "source": [
    "Reference = 'Liu et. al 2024, RAS, 527, 3'\n",
    "Telescope = 'New Technology Telescope'\n",
    "Instrument = 'Son of Isaac (SOFI)'\n",
    "TSTART = 59508.036876\n",
    "TSTOP = 59512.157403"
   ]
  },
  {
   "cell_type": "code",
   "execution_count": 10,
   "id": "0927ee6c",
   "metadata": {},
   "outputs": [],
   "source": [
    "Object = ['ULASJ081918.58+210310.4' , '2MASS J08195820-0335266']\n",
    "SpectralType = ['T6', 'T4']\n",
    "Jmag = ['16.95 +/- 0.01', '14.991 +/- 0.044']\n",
    "Hmag = ['17.28 +/- 0.03', '14.638 +/- 0.057']\n",
    "Kmag = ['17.18 +/- 0.06', '14.586 +/- 0.105']\n",
    "RA = [124.827541, 124.992527]\n",
    "Dec = [21.05336564, -3.590735]\n",
    "new_name = ['J0819+21', 'J0819-03']\n",
    "date_obs = ['2022-02-11', '2022-02-12']\n",
    "band_obs = ['Js_Js', 'Js']"
   ]
  },
  {
   "cell_type": "code",
   "execution_count": null,
   "id": "584f83fd",
   "metadata": {},
   "outputs": [],
   "source": []
  },
  {
   "cell_type": "code",
   "execution_count": 16,
   "id": "0d4b4f60",
   "metadata": {},
   "outputs": [
    {
     "data": {
      "text/plain": [
       "[<astropy.io.fits.hdu.image.PrimaryHDU object at 0x000001CB02B965C0>, <astropy.io.fits.hdu.table.BinTableHDU object at 0x000001CB02B96140>]"
      ]
     },
     "execution_count": 16,
     "metadata": {},
     "output_type": "execute_result"
    }
   ],
   "source": [
    "lc = l.LightCurve(time = list(dwarfs_data[0][0]), flux = list(dwarfs_data[0][1]) * u.dimensionless_unscaled, flux_err = list(dwarfs_data[0][2]) * u.dimensionless_unscaled)\n",
    "lc.to_fits(path = dir_save + Object[1] + '_Liu2024.fits')"
   ]
  },
  {
   "cell_type": "code",
   "execution_count": null,
   "id": "26f83811",
   "metadata": {},
   "outputs": [],
   "source": []
  },
  {
   "cell_type": "code",
   "execution_count": 17,
   "id": "c509c6eb",
   "metadata": {},
   "outputs": [],
   "source": [
    "with fits.open(dir_save + Object[1] + '_Liu2024.fits', mode = 'update') as f:\n",
    "    f[0].header['OBJECT'] = Object[1]\n",
    "    f[0].header['SPECTYPE'] = SpectralType[1]\n",
    "    f[0].header['TSTART'] = TSTART\n",
    "    f[0].header['TSTOP'] = TSTOP\n",
    "    f[0].header['DATE_OBS'] = date_obs[1]\n",
    "    f[0].header['TIMESYS'] = 'mjd'\n",
    "    f[0].header['TELESCOP'] = Telescope\n",
    "    f[0].header['INSTRUME'] = Instrument\n",
    "    f[0].header['FILTER'] = band_obs[0]\n",
    "    f[0].header['VOREF'] = Reference\n",
    "    f[0].header['RA_OBJ'] = RA[1]\n",
    "    f[0].header['DEC_OBJ'] = Dec[1]\n",
    "    f[0].header['JMAG'] = Jmag[1]\n",
    "    f[0].header['HMAG'] = Hmag[1]\n",
    "    f[0].header['KMAG'] = Kmag[1]\n",
    "    f[1].header['TUNIT1'] = 'Hrs'"
   ]
  },
  {
   "cell_type": "raw",
   "id": "f3a3dc87",
   "metadata": {},
   "source": [
    "new_format = pd.DataFrame()\n",
    "\n",
    "new_format['Time'] = dwarfs_data[0][0]\n",
    "new_format['Flux'] = dwarfs_data[0][1]\n",
    "new_format['eFlux'] = dwarfs_data[0][2]\n",
    "\n",
    "# Especifique el nombre del archivo de texto\n",
    "nombre_base_archivo = \"{}{}\".format(dir_save,new_name[1])\n",
    "\n",
    "    # Check if the file already exists\n",
    "contador = 1\n",
    "nombre_archivo = nombre_base_archivo\n",
    "while os.path.exists(nombre_archivo):\n",
    "    nombre_archivo = \"{}_{}{}\".format(nombre_base_archivo, contador, '.dat')\n",
    "    contador += 1\n",
    "        \n",
    "# Save the DataFrame as a text file\n",
    "#we can add or not the eflux line depends on the originally data include the errors (eflux (normalized as flux))\n",
    "with open(nombre_archivo, \"w\") as f:\n",
    "    f.write(\"{}{}\".format(\"#  ----------------------------------------------------------------------------------\",'\\n'))\n",
    "    f.write(\"{}{}{}\".format('# Light Curve of ',Object[1],'\\n'))\n",
    "    f.write(\"{}{}{}{}{}{}{}\".format('# Originally observed with ',Instrument,' on ',date_obs[1], ' in ',band_obs[0],'\\n'))\n",
    "    f.write(\"{}{}{}\".format('# Originally published in ',Reference,'\\n'))\n",
    "    f.write(\"{}{}\".format(\"#\",'\\n'))\n",
    "    f.write(\"{}{}\".format(\"# PLEASE CITE THE ORIGINAL DATA REFERENCE WHEN PUBLISHING OR PRESENTING THESE DATA\",'\\n'))\n",
    "    f.write(\"{}{}\".format(\"#\",'\\n'))\n",
    "    f.write(\"{}{}{}\".format('# Near infrared spectral type:',SpectralType[1],'\\n'))\n",
    "    f.write(\"{}{}{}\".format('# J magnitude = ',Jmag[1],'\\n'))\n",
    "    f.write(\"{}{}{}\".format('# H magnitude = ',Hmag[1],'\\n'))\n",
    "    f.write(\"{}{}{}\".format('# K magnitude = ',Kmag[1],'\\n'))\n",
    "    f.write(\"{}{}\".format('#  time (hr)   flux   eflux','\\n'))\n",
    "    f.write(\"{}{}\".format(\"#  ----------------------------------------------------------------------------------\",'\\n'))\n",
    "    new_format.to_csv(f, sep='\\t', index=False)   # Write the DataFrame below the comment"
   ]
  },
  {
   "cell_type": "code",
   "execution_count": 18,
   "id": "44ca5d48",
   "metadata": {},
   "outputs": [
    {
     "data": {
      "text/plain": [
       "[<astropy.io.fits.hdu.image.PrimaryHDU object at 0x000001CB02B95270>, <astropy.io.fits.hdu.table.BinTableHDU object at 0x000001CB02B96C80>]"
      ]
     },
     "execution_count": 18,
     "metadata": {},
     "output_type": "execute_result"
    }
   ],
   "source": [
    "lc = l.LightCurve(time = list(dwarfs_data[1][0]), flux = list(dwarfs_data[1][1]) * u.dimensionless_unscaled, flux_err = list(dwarfs_data[1][2]) * u.dimensionless_unscaled)\n",
    "lc.to_fits(path = dir_save + Object[0] + '_Liu2024.fits')"
   ]
  },
  {
   "cell_type": "code",
   "execution_count": 19,
   "id": "4b52735c",
   "metadata": {},
   "outputs": [],
   "source": [
    "with fits.open(dir_save + Object[0] + '_Liu2024.fits', mode = 'update') as f:\n",
    "    f[0].header['OBJECT'] = Object[0]\n",
    "    f[0].header['SPECTYPE'] = SpectralType[0]\n",
    "    f[0].header['TSTART'] = TSTART\n",
    "    f[0].header['TSTOP'] = TSTOP\n",
    "    f[0].header['DATE_OBS'] = date_obs[0]\n",
    "    f[0].header['TIMESYS'] = 'mjd'\n",
    "    f[0].header['TELESCOP'] = Telescope\n",
    "    f[0].header['INSTRUME'] = Instrument\n",
    "    f[0].header['FILTER'] = band_obs[0]\n",
    "    f[0].header['VOREF'] = Reference\n",
    "    f[0].header['RA_OBJ'] = RA[0]\n",
    "    f[0].header['DEC_OBJ'] = Dec[0]\n",
    "    f[0].header['JMAG'] = Jmag[0]\n",
    "    f[0].header['HMAG'] = Hmag[0]\n",
    "    f[0].header['KMAG'] = Kmag[0]\n",
    "    f[1].header['TUNIT1'] = 'Hrs'"
   ]
  },
  {
   "cell_type": "raw",
   "id": "d40e6253",
   "metadata": {},
   "source": [
    "new_format = pd.DataFrame()\n",
    "\n",
    "new_format['Time'] = dwarfs_data[1][0]\n",
    "new_format['Flux'] = dwarfs_data[1][1]\n",
    "new_format['eFlux'] = dwarfs_data[1][2]\n",
    "\n",
    "# Especifique el nombre del archivo de texto\n",
    "nombre_base_archivo = \"{}{}\".format(dir_save,new_name[0])\n",
    "\n",
    "    # Check if the file already exists\n",
    "contador = 1\n",
    "nombre_archivo = nombre_base_archivo\n",
    "while os.path.exists(nombre_archivo):\n",
    "    nombre_archivo = \"{}_{}{}\".format(nombre_base_archivo, contador, '.dat')\n",
    "    contador += 1\n",
    "        \n",
    "# Save the DataFrame as a text file\n",
    "#we can add or not the eflux line depends on the originally data include the errors (eflux (normalized as flux))\n",
    "with open(nombre_archivo, \"w\") as f:\n",
    "    f.write(\"{}{}\".format(\"#  ----------------------------------------------------------------------------------\",'\\n'))\n",
    "    f.write(\"{}{}{}\".format('# Light Curve of ',Object[0],'\\n'))\n",
    "    f.write(\"{}{}{}{}{}{}{}\".format('# Originally observed with ',Instrument,' on ',date_obs[0], ' in ',band_obs[0],'\\n'))\n",
    "    f.write(\"{}{}{}\".format('# Originally published in ',Reference,'\\n'))\n",
    "    f.write(\"{}{}\".format(\"#\",'\\n'))\n",
    "    f.write(\"{}{}\".format(\"# PLEASE CITE THE ORIGINAL DATA REFERENCE WHEN PUBLISHING OR PRESENTING THESE DATA\",'\\n'))\n",
    "    f.write(\"{}{}\".format(\"#\",'\\n'))\n",
    "    f.write(\"{}{}{}\".format('# Near infrared spectral type:',SpectralType[1],'\\n'))\n",
    "    f.write(\"{}{}{}\".format('# J magnitude = ',Jmag[0],'\\n'))\n",
    "    f.write(\"{}{}{}\".format('# H magnitude = ',Hmag[0],'\\n'))\n",
    "    f.write(\"{}{}{}\".format('# K magnitude = ',Kmag[0],'\\n'))\n",
    "    f.write(\"{}{}\".format('#  time (hr)   flux   eflux','\\n'))\n",
    "    f.write(\"{}{}\".format(\"#  ----------------------------------------------------------------------------------\",'\\n'))\n",
    "    new_format.to_csv(f, sep='\\t', index=False)   # Write the DataFrame below the comment"
   ]
  },
  {
   "cell_type": "code",
   "execution_count": 20,
   "id": "627364ee",
   "metadata": {},
   "outputs": [
    {
     "data": {
      "text/plain": [
       "[<astropy.io.fits.hdu.image.PrimaryHDU object at 0x000001CB02B2FF10>, <astropy.io.fits.hdu.table.BinTableHDU object at 0x000001CB02B2FC10>]"
      ]
     },
     "execution_count": 20,
     "metadata": {},
     "output_type": "execute_result"
    }
   ],
   "source": [
    "lc = l.LightCurve(time = list(dwarfs_data[2][0]), flux = list(dwarfs_data[2][1]) * u.dimensionless_unscaled, flux_err = list(dwarfs_data[2][2]) * u.dimensionless_unscaled)\n",
    "lc.to_fits(path = dir_save + Object[1] + '_1_Liu2024.fits')"
   ]
  },
  {
   "cell_type": "code",
   "execution_count": 21,
   "id": "955f81c3",
   "metadata": {},
   "outputs": [],
   "source": [
    "with fits.open(dir_save + Object[1] + '_1_Liu2024.fits', mode = 'update') as f:\n",
    "    f[0].header['OBJECT'] = Object[1]\n",
    "    f[0].header['SPECTYPE'] = SpectralType[1]\n",
    "    f[0].header['TSTART'] = TSTART\n",
    "    f[0].header['TSTOP'] = TSTOP\n",
    "    f[0].header['DATE_OBS'] = date_obs[1]\n",
    "    f[0].header['TIMESYS'] = 'mjd'\n",
    "    f[0].header['TELESCOP'] = Telescope\n",
    "    f[0].header['INSTRUME'] = Instrument\n",
    "    f[0].header['FILTER'] = band_obs[0]\n",
    "    f[0].header['VOREF'] = Reference\n",
    "    f[0].header['RA_OBJ'] = RA[1]\n",
    "    f[0].header['DEC_OBJ'] = Dec[1]\n",
    "    f[0].header['JMAG'] = Jmag[1]\n",
    "    f[0].header['HMAG'] = Hmag[1]\n",
    "    f[0].header['KMAG'] = Kmag[1]\n",
    "    f[1].header['TUNIT1'] = 'Hrs'"
   ]
  },
  {
   "cell_type": "raw",
   "id": "4952f6bf",
   "metadata": {},
   "source": [
    "new_format = pd.DataFrame()\n",
    "\n",
    "new_format['Time'] = dwarfs_data[2][0]\n",
    "new_format['Flux'] = dwarfs_data[2][1]\n",
    "new_format['eFlux'] = dwarfs_data[2][2]\n",
    "\n",
    "# Especifique el nombre del archivo de texto\n",
    "nombre_base_archivo = \"{}{}\".format(dir_save,new_name[1])\n",
    "\n",
    "    # Check if the file already exists\n",
    "contador = 1\n",
    "nombre_archivo = nombre_base_archivo\n",
    "while os.path.exists(nombre_archivo):\n",
    "    nombre_archivo = \"{}_{}{}\".format(nombre_base_archivo, contador, '.dat')\n",
    "    contador += 1\n",
    "        \n",
    "# Save the DataFrame as a text file\n",
    "#we can add or not the eflux line depends on the originally data include the errors (eflux (normalized as flux))\n",
    "with open(nombre_archivo, \"w\") as f:\n",
    "    f.write(\"{}{}\".format(\"#  ----------------------------------------------------------------------------------\",'\\n'))\n",
    "    f.write(\"{}{}{}\".format('# Light Curve of ',Object[1],'\\n'))\n",
    "    f.write(\"{}{}{}{}{}{}{}\".format('# Originally observed with ',Instrument,' on ',date_obs[1], ' in ',band_obs[0],'\\n'))\n",
    "    f.write(\"{}{}{}\".format('# Originally published in ',Reference,'\\n'))\n",
    "    f.write(\"{}{}\".format(\"#\",'\\n'))\n",
    "    f.write(\"{}{}\".format(\"# PLEASE CITE THE ORIGINAL DATA REFERENCE WHEN PUBLISHING OR PRESENTING THESE DATA\",'\\n'))\n",
    "    f.write(\"{}{}\".format(\"#\",'\\n'))\n",
    "    f.write(\"{}{}{}\".format('# Near infrared spectral type:',SpectralType[1],'\\n'))\n",
    "    f.write(\"{}{}{}\".format('# J magnitude = ',Jmag[1],'\\n'))\n",
    "    f.write(\"{}{}{}\".format('# H magnitude = ',Hmag[1],'\\n'))\n",
    "    f.write(\"{}{}{}\".format('# K magnitude = ',Kmag[1],'\\n'))\n",
    "    f.write(\"{}{}\".format('#  time (hr)   flux   eflux','\\n'))\n",
    "    f.write(\"{}{}\".format(\"#  ----------------------------------------------------------------------------------\",'\\n'))\n",
    "    new_format.to_csv(f, sep='\\t', index=False)   # Write the DataFrame below the comment"
   ]
  },
  {
   "cell_type": "code",
   "execution_count": 22,
   "id": "946d8fb0",
   "metadata": {},
   "outputs": [
    {
     "data": {
      "text/plain": [
       "[<astropy.io.fits.hdu.image.PrimaryHDU object at 0x000001CB02B97730>, <astropy.io.fits.hdu.table.BinTableHDU object at 0x000001CB02B2DB70>]"
      ]
     },
     "execution_count": 22,
     "metadata": {},
     "output_type": "execute_result"
    }
   ],
   "source": [
    "lc = l.LightCurve(time = list(dwarfs_data[3][0]), flux = list(dwarfs_data[3][1]) * u.dimensionless_unscaled, flux_err = list(dwarfs_data[3][2]) * u.dimensionless_unscaled)\n",
    "lc.to_fits(path = dir_save + Object[1] + '_2_Liu2024.fits')"
   ]
  },
  {
   "cell_type": "code",
   "execution_count": 23,
   "id": "b6307127",
   "metadata": {},
   "outputs": [],
   "source": [
    "with fits.open(dir_save + Object[1] + '_2_Liu2024.fits', mode = 'update') as f:\n",
    "    f[0].header['OBJECT'] = Object[1]\n",
    "    f[0].header['SPECTYPE'] = SpectralType[1]\n",
    "    f[0].header['TSTART'] = TSTART\n",
    "    f[0].header['TSTOP'] = TSTOP\n",
    "    f[0].header['DATE_OBS'] = date_obs[1]\n",
    "    f[0].header['TIMESYS'] = 'mjd'\n",
    "    f[0].header['TELESCOP'] = Telescope\n",
    "    f[0].header['INSTRUME'] = Instrument\n",
    "    f[0].header['FILTER'] = band_obs[1]\n",
    "    f[0].header['VOREF'] = Reference\n",
    "    f[0].header['RA_OBJ'] = RA[1]\n",
    "    f[0].header['DEC_OBJ'] = Dec[1]\n",
    "    f[0].header['JMAG'] = Jmag[1]\n",
    "    f[0].header['HMAG'] = Hmag[1]\n",
    "    f[0].header['KMAG'] = Kmag[1]\n",
    "    f[1].header['TUNIT1'] = 'Hrs'"
   ]
  },
  {
   "cell_type": "raw",
   "id": "743d4b56",
   "metadata": {},
   "source": [
    "new_format = pd.DataFrame()\n",
    "\n",
    "new_format['Time'] = dwarfs_data[3][0]\n",
    "new_format['Flux'] = dwarfs_data[3][1]\n",
    "new_format['eFlux'] = dwarfs_data[3][2]\n",
    "\n",
    "# Especifique el nombre del archivo de texto\n",
    "nombre_base_archivo = \"{}{}\".format(dir_save,new_name[1])\n",
    "\n",
    "    # Check if the file already exists\n",
    "contador = 1\n",
    "nombre_archivo = nombre_base_archivo\n",
    "while os.path.exists(nombre_archivo):\n",
    "    nombre_archivo = \"{}_{}{}\".format(nombre_base_archivo, contador, '.dat')\n",
    "    contador += 1\n",
    "        \n",
    "# Save the DataFrame as a text file\n",
    "#we can add or not the eflux line depends on the originally data include the errors (eflux (normalized as flux))\n",
    "with open(nombre_archivo, \"w\") as f:\n",
    "    f.write(\"{}{}\".format(\"#  ----------------------------------------------------------------------------------\",'\\n'))\n",
    "    f.write(\"{}{}{}\".format('# Light Curve of ',Object[1],'\\n'))\n",
    "    f.write(\"{}{}{}{}{}{}{}\".format('# Originally observed with ',Instrument,' on ',date_obs[1], ' in ',band_obs[1],'\\n'))\n",
    "    f.write(\"{}{}{}\".format('# Originally published in ',Reference,'\\n'))\n",
    "    f.write(\"{}{}\".format(\"#\",'\\n'))\n",
    "    f.write(\"{}{}\".format(\"# PLEASE CITE THE ORIGINAL DATA REFERENCE WHEN PUBLISHING OR PRESENTING THESE DATA\",'\\n'))\n",
    "    f.write(\"{}{}\".format(\"#\",'\\n'))\n",
    "    f.write(\"{}{}{}\".format('# Near infrared spectral type:',SpectralType[1],'\\n'))\n",
    "    f.write(\"{}{}{}\".format('# J magnitude = ',Jmag[1],'\\n'))\n",
    "    f.write(\"{}{}{}\".format('# H magnitude = ',Hmag[1],'\\n'))\n",
    "    f.write(\"{}{}{}\".format('# K magnitude = ',Kmag[1],'\\n'))\n",
    "    f.write(\"{}{}\".format('#  time (hr)   flux   eflux','\\n'))\n",
    "    f.write(\"{}{}\".format(\"#  ----------------------------------------------------------------------------------\",'\\n'))\n",
    "    new_format.to_csv(f, sep='\\t', index=False)   # Write the DataFrame below the comment"
   ]
  },
  {
   "cell_type": "code",
   "execution_count": 24,
   "id": "3fee83b9",
   "metadata": {},
   "outputs": [
    {
     "data": {
      "text/plain": [
       "[<astropy.io.fits.hdu.image.PrimaryHDU object at 0x000001CB02B96D40>, <astropy.io.fits.hdu.table.BinTableHDU object at 0x000001CB02BB9DB0>]"
      ]
     },
     "execution_count": 24,
     "metadata": {},
     "output_type": "execute_result"
    }
   ],
   "source": [
    "lc = l.LightCurve(time = list(dwarfs_data[4][0]), flux = list(dwarfs_data[4][1]) * u.dimensionless_unscaled, flux_err = list(dwarfs_data[4][2]) * u.dimensionless_unscaled)\n",
    "lc.to_fits(path = dir_save + Object[1] + '_3_Liu2024.fits')"
   ]
  },
  {
   "cell_type": "code",
   "execution_count": 25,
   "id": "7bfe7d29",
   "metadata": {},
   "outputs": [],
   "source": [
    "with fits.open(dir_save + Object[1] + '_3_Liu2024.fits', mode = 'update') as f:\n",
    "    f[0].header['OBJECT'] = Object[1]\n",
    "    f[0].header['SPECTYPE'] = SpectralType[1]\n",
    "    f[0].header['TSTART'] = TSTART\n",
    "    f[0].header['TSTOP'] = TSTOP\n",
    "    f[0].header['DATE_OBS'] = date_obs[1]\n",
    "    f[0].header['TIMESYS'] = 'mjd'\n",
    "    f[0].header['TELESCOP'] = Telescope\n",
    "    f[0].header['INSTRUME'] = Instrument\n",
    "    f[0].header['FILTER'] = band_obs[1]\n",
    "    f[0].header['VOREF'] = Reference\n",
    "    f[0].header['RA_OBJ'] = RA[1]\n",
    "    f[0].header['DEC_OBJ'] = Dec[1]\n",
    "    f[0].header['JMAG'] = Jmag[1]\n",
    "    f[0].header['HMAG'] = Hmag[1]\n",
    "    f[0].header['KMAG'] = Kmag[1]\n",
    "    f[1].header['TUNIT1'] = 'Hrs'"
   ]
  },
  {
   "cell_type": "raw",
   "id": "d5ba1942",
   "metadata": {},
   "source": [
    "new_format = pd.DataFrame()\n",
    "\n",
    "new_format['Time'] = dwarfs_data[4][0]\n",
    "new_format['Flux'] = dwarfs_data[4][1]\n",
    "new_format['eFlux'] = dwarfs_data[4][2]\n",
    "\n",
    "# Especifique el nombre del archivo de texto\n",
    "nombre_base_archivo = \"{}{}\".format(dir_save,new_name[1])\n",
    "\n",
    "    # Check if the file already exists\n",
    "contador = 1\n",
    "nombre_archivo = nombre_base_archivo\n",
    "while os.path.exists(nombre_archivo):\n",
    "    nombre_archivo = \"{}_{}{}\".format(nombre_base_archivo, contador, '.dat')\n",
    "    contador += 1\n",
    "        \n",
    "# Save the DataFrame as a text file\n",
    "#we can add or not the eflux line depends on the originally data include the errors (eflux (normalized as flux))\n",
    "with open(nombre_archivo, \"w\") as f:\n",
    "    f.write(\"{}{}\".format(\"#  ----------------------------------------------------------------------------------\",'\\n'))\n",
    "    f.write(\"{}{}{}\".format('# Light Curve of ',Object[1],'\\n'))\n",
    "    f.write(\"{}{}{}{}{}{}{}\".format('# Originally observed with ',Instrument,' on ',date_obs[1], ' in ',band_obs[1],'\\n'))\n",
    "    f.write(\"{}{}{}\".format('# Originally published in ',Reference,'\\n'))\n",
    "    f.write(\"{}{}\".format(\"#\",'\\n'))\n",
    "    f.write(\"{}{}\".format(\"# PLEASE CITE THE ORIGINAL DATA REFERENCE WHEN PUBLISHING OR PRESENTING THESE DATA\",'\\n'))\n",
    "    f.write(\"{}{}\".format(\"#\",'\\n'))\n",
    "    f.write(\"{}{}{}\".format('# Near infrared spectral type:',SpectralType[1],'\\n'))\n",
    "    f.write(\"{}{}{}\".format('# J magnitude = ',Jmag[1],'\\n'))\n",
    "    f.write(\"{}{}{}\".format('# H magnitude = ',Hmag[1],'\\n'))\n",
    "    f.write(\"{}{}{}\".format('# K magnitude = ',Kmag[1],'\\n'))\n",
    "    f.write(\"{}{}\".format('#  time (hr)   flux   eflux','\\n'))\n",
    "    f.write(\"{}{}\".format(\"#  ----------------------------------------------------------------------------------\",'\\n'))\n",
    "    new_format.to_csv(f, sep='\\t', index=False)   # Write the DataFrame below the comment"
   ]
  }
 ],
 "metadata": {
  "kernelspec": {
   "display_name": "Python 3 (ipykernel)",
   "language": "python",
   "name": "python3"
  },
  "language_info": {
   "codemirror_mode": {
    "name": "ipython",
    "version": 3
   },
   "file_extension": ".py",
   "mimetype": "text/x-python",
   "name": "python",
   "nbconvert_exporter": "python",
   "pygments_lexer": "ipython3",
   "version": "3.10.9"
  }
 },
 "nbformat": 4,
 "nbformat_minor": 5
}
