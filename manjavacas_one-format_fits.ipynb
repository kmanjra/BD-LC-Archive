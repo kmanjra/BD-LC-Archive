{
 "cells": [
  {
   "cell_type": "code",
   "execution_count": 1,
   "id": "80947408-5da2-4e57-9c71-243bdd2005ac",
   "metadata": {},
   "outputs": [],
   "source": [
    "import pandas as pd\n",
    "import numpy as np\n",
    "import scipy\n",
    "from scipy import io\n",
    "from scipy.stats import mannwhitneyu\n",
    "from scipy.stats import wilcoxon\n",
    "import os\n",
    "\n",
    "import matplotlib\n",
    "import matplotlib.pyplot as plt\n",
    "import matplotlib.gridspec as gridspec\n",
    "from matplotlib.animation import FuncAnimation\n",
    "import glob\n",
    "import random\n",
    "\n",
    "from scipy.optimize import curve_fit\n",
    "\n",
    "from astropy.io import fits\n",
    "from astropy.time import Time\n",
    "from astropy import units as u\n",
    "import scipy.integrate as integrate\n",
    "import lightkurve\n",
    "\n",
    "from matplotlib.path import Path\n",
    "import matplotlib.patches as patches\n",
    "%matplotlib inline\n",
    "\n",
    "import math\n",
    "import datetime as dt\n",
    "import lightkurve.io as l\n",
    "from lightkurve.io.generic import read_generic_lightcurve"
   ]
  },
  {
   "cell_type": "code",
   "execution_count": 2,
   "id": "83998927-2ab1-401b-bcd9-fa4fae7ba0cc",
   "metadata": {},
   "outputs": [],
   "source": [
    "LP261 = io.readsav('C:/Users/kmanj/Manjavacas Research/Manjavacas_Spectra/LP261_speccube_1.sav')\n",
    "cant_spectra = 66\n",
    "\n",
    "#obtain time\n",
    "fecha_mjd  = LP261['time'][0]\n",
    "fecha  = Time(fecha_mjd, format='mjd')\n",
    "fechas  = fecha .datetime\n",
    "\n",
    "time  = []\n",
    "for i in range(0,cant_spectra):\n",
    "    times = fechas [i]-fechas [0]\n",
    "    time.append(round(times.total_seconds()/3600, 5))"
   ]
  },
  {
   "cell_type": "code",
   "execution_count": 3,
   "id": "16dc99ff-24ee-44b6-b2f2-02b1f5de8766",
   "metadata": {},
   "outputs": [],
   "source": [
    "files_fit = []\n",
    "for i in range(0,66):\n",
    "    files_fit.append(fits.open(\"{}{}{}\".format('C:/Users/kmanj/Manjavacas Research/Manjavacas_Spectra/LP261/spectra_LP261_7fwhm_', i, '.fits')))"
   ]
  },
  {
   "cell_type": "code",
   "execution_count": 4,
   "id": "7b5d9573-f04c-4980-b88e-b30f457157de",
   "metadata": {},
   "outputs": [],
   "source": [
    "# separate the columns data\n",
    "lambda_= []\n",
    "flux = []\n",
    "eflux = []\n",
    "for i in range(0,cant_spectra):\n",
    "    lambda_.append(files_fit[i][0].data[:,0])\n",
    "    flux.append(files_fit[i][0].data[:,3])\n",
    "    eflux.append(files_fit[i][0].data[:,4])"
   ]
  },
  {
   "cell_type": "code",
   "execution_count": 5,
   "id": "8dc27697-925a-4574-af62-e7539df891aa",
   "metadata": {},
   "outputs": [],
   "source": [
    "# generate light curve\n",
    "total_flux = []\n",
    "error_total_flux = []\n",
    "\n",
    "for i in range(0,cant_spectra):\n",
    "    total_flux.append(integrate.simps(flux[i],lambda_[0])/(lambda_[i][len(lambda_[0])-1]-lambda_[i][0]))\n",
    "    error_total_flux.append(integrate.simps(eflux[i],lambda_[i])/((lambda_[i][len(lambda_[0])-1]-lambda_[i][0])*np.sqrt(len(eflux[i]))))"
   ]
  },
  {
   "cell_type": "code",
   "execution_count": 6,
   "id": "3337f1ce-b4e8-4b5a-a989-f332e9746c90",
   "metadata": {},
   "outputs": [],
   "source": [
    "# Normalisation factor\n",
    "cv_temp  = np.median(total_flux)\n",
    "ecv_temp  = np.median(error_total_flux)**2/np.sqrt(cant_spectra)"
   ]
  },
  {
   "cell_type": "code",
   "execution_count": 7,
   "id": "00a1eed1-ed01-495f-a57a-7fe6025615bf",
   "metadata": {},
   "outputs": [],
   "source": [
    "# Normalised light curve\n",
    "normal_flux = total_flux/cv_temp\n",
    "enormal_flux = []\n",
    "for i in range(0,cant_spectra):\n",
    "    enormal_flux.append(normal_flux[i]*np.sqrt((error_total_flux[i]/total_flux[i])**2 + (ecv_temp/cv_temp)**2))"
   ]
  },
  {
   "cell_type": "code",
   "execution_count": 8,
   "id": "79b4a564-fa9a-4f74-8c5b-fa4ed89227ce",
   "metadata": {},
   "outputs": [
    {
     "data": {
      "image/png": "[encoded data removed]",
      "text/plain": [
       "<Figure size 600x400 with 1 Axes>"
      ]
     },
     "metadata": {},
     "output_type": "display_data"
    }
   ],
   "source": [
    "fig = plt.figure(figsize=(6, 4), constrained_layout = True)\n",
    "\n",
    "plt.rcParams['font.family'] = \"DejaVu Sans\" # Tipo de letra general\n",
    "plt.rcParams['font.size'] = 15 # Tamaño de letra general\n",
    "plt.rc('xtick', direction='in')\n",
    "plt.rc('ytick', direction='in')\n",
    "\n",
    "(_, caps, _) = plt.errorbar(time, normal_flux,yerr=enormal_flux,capsize=2, marker ='.',ls='',color='black',label ='Combined NIR')\n",
    "\n",
    "for cap in caps:\n",
    "    cap.set_markeredgewidth(1)\n",
    "plt.legend(loc='lower right', ncol=2, fancybox=True, shadow=False,frameon=True, fontsize=10)\n",
    "plt.ylabel('Normalized Flux')\n",
    "plt.xlabel('Time (hr)')\n",
    "#plt.title('LP261-75B')\n",
    "plt.tick_params('x', labelbottom=True)\n",
    "\n",
    "#fig.savefig('LC_lp261.pdf', bbox_inches='tight')\n",
    "\n",
    "plt.show()"
   ]
  },
  {
   "cell_type": "code",
   "execution_count": 9,
   "id": "a287d01b",
   "metadata": {},
   "outputs": [],
   "source": [
    "Reference = 'Manjavacas et al 2018 AJ 155 11'\n",
    "Telescope = 'Hubble Space Telescope'\n",
    "Object = 'LP261-75B'\n",
    "SpectralType = 'L6'\n",
    "Jmag = '17.29 +/- 0.25'\n",
    "Hmag = '15.77 +/- 0.14'\n",
    "Kmag = '15.04 +/- 0.12'\n",
    "RA = 147.7722925\n",
    "DEC = 35.96649102\n",
    "Instrument = 'HST/WFC3'\n",
    "filter1 = 'G141 grism'\n",
    "Date_obs = 'December 21st, 2016'\n",
    "Band_obs = '1.1 - 1.69 microns'\n",
    "TSTART = 57742.58988125\n",
    "TSTOP = 57742.6176753472"
   ]
  },
  {
   "cell_type": "code",
   "execution_count": 10,
   "id": "a0cea68e",
   "metadata": {},
   "outputs": [],
   "source": [
    "new_format = pd.DataFrame()\n",
    "\n",
    "new_format['Time'] = time\n",
    "new_format['Flux'] = normal_flux\n",
    "new_format['eFlux'] = enormal_flux"
   ]
  },
  {
   "cell_type": "code",
   "execution_count": 11,
   "id": "3f7408af",
   "metadata": {
    "scrolled": false
   },
   "outputs": [
    {
     "data": {
      "text/html": [
       "<div><i>LightCurve length=66</i>\n",
       "<table id=\"table1813336145440\" class=\"table-striped table-bordered table-condensed\">\n",
       "<thead><tr><th>time</th><th>flux</th><th>flux_err</th></tr></thead>\n",
       "<thead><tr><th></th><th></th><th></th></tr></thead>\n",
       "<thead><tr><th>Time</th><th>float64</th><th>float64</th></tr></thead>\n",
       "<tr><td>0.0</td><td>0.9808689405874663</td><td>0.0013908250846904808</td></tr>\n",
       "<tr><td>0.00254625</td><td>0.9905949036358963</td><td>0.0014010208885332886</td></tr>\n",
       "<tr><td>0.0050925</td><td>0.9905966403365557</td><td>0.0014024621190724884</td></tr>\n",
       "<tr><td>0.00763875</td><td>0.9952194203537826</td><td>0.0014095791368143702</td></tr>\n",
       "<tr><td>0.010185</td><td>0.9919636088617644</td><td>0.0013986424865850295</td></tr>\n",
       "<tr><td>0.012731666666666667</td><td>0.9986017171972534</td><td>0.0014053373762746336</td></tr>\n",
       "<tr><td>0.015277916666666667</td><td>0.9951314865947565</td><td>0.001407374628460814</td></tr>\n",
       "<tr><td>0.017824166666666665</td><td>0.9966447619495119</td><td>0.0014194844031082102</td></tr>\n",
       "<tr><td>0.020370416666666665</td><td>0.997762040577047</td><td>0.0014228487192444938</td></tr>\n",
       "<tr><td>...</td><td>...</td><td>...</td></tr>\n",
       "<tr><td>0.33100708333333334</td><td>0.9983614346269232</td><td>0.0014099596774175128</td></tr>\n",
       "<tr><td>0.33355333333333337</td><td>1.0014912471009756</td><td>0.0014098570562227628</td></tr>\n",
       "<tr><td>0.33609958333333334</td><td>1.000640150035844</td><td>0.0014071908510745455</td></tr>\n",
       "<tr><td>0.3386458333333333</td><td>0.999205690856813</td><td>0.0014050368671225675</td></tr>\n",
       "<tr><td>0.34119208333333334</td><td>1.0049699750256598</td><td>0.0014076645600035553</td></tr>\n",
       "<tr><td>0.3437383333333333</td><td>1.0011602020107186</td><td>0.0014106614389141226</td></tr>\n",
       "<tr><td>0.346285</td><td>0.9997223145372851</td><td>0.0014124767749995003</td></tr>\n",
       "<tr><td>0.34883125</td><td>1.0002776854627147</td><td>0.0014163223965944277</td></tr>\n",
       "<tr><td>0.35137749999999995</td><td>1.0005859225282503</td><td>0.0014226812291743523</td></tr>\n",
       "<tr><td>0.35392375000000004</td><td>1.0003675195008062</td><td>0.001427309780389866</td></tr>\n",
       "</table></div>"
      ],
      "text/plain": [
       "<LightCurve length=66>\n",
       "        time                flux               flux_err      \n",
       "                                                             \n",
       "        Time              float64              float64       \n",
       "-------------------- ------------------ ---------------------\n",
       "                 0.0 0.9808689405874663 0.0013908250846904808\n",
       "          0.00254625 0.9905949036358963 0.0014010208885332886\n",
       "           0.0050925 0.9905966403365557 0.0014024621190724884\n",
       "          0.00763875 0.9952194203537826 0.0014095791368143702\n",
       "            0.010185 0.9919636088617644 0.0013986424865850295\n",
       "0.012731666666666667 0.9986017171972534 0.0014053373762746336\n",
       "0.015277916666666667 0.9951314865947565  0.001407374628460814\n",
       "0.017824166666666665 0.9966447619495119 0.0014194844031082102\n",
       "0.020370416666666665  0.997762040577047 0.0014228487192444938\n",
       "                 ...                ...                   ...\n",
       " 0.33100708333333334 0.9983614346269232 0.0014099596774175128\n",
       " 0.33355333333333337 1.0014912471009756 0.0014098570562227628\n",
       " 0.33609958333333334  1.000640150035844 0.0014071908510745455\n",
       "  0.3386458333333333  0.999205690856813 0.0014050368671225675\n",
       " 0.34119208333333334 1.0049699750256598 0.0014076645600035553\n",
       "  0.3437383333333333 1.0011602020107186 0.0014106614389141226\n",
       "            0.346285 0.9997223145372851 0.0014124767749995003\n",
       "          0.34883125 1.0002776854627147 0.0014163223965944277\n",
       " 0.35137749999999995 1.0005859225282503 0.0014226812291743523\n",
       " 0.35392375000000004 1.0003675195008062  0.001427309780389866"
      ]
     },
     "execution_count": 11,
     "metadata": {},
     "output_type": "execute_result"
    }
   ],
   "source": [
    "lc = l.LightCurve(time = list(time) * u.h, flux = list(normal_flux) * u.dimensionless_unscaled, flux_err = list(enormal_flux) * u.dimensionless_unscaled)\n",
    "lc"
   ]
  },
  {
   "cell_type": "code",
   "execution_count": 12,
   "id": "f8ae3e47",
   "metadata": {},
   "outputs": [],
   "source": [
    "dir_save = \"C:/Users/kmanj/FITS_BD_Files/Data/Manjavacas_2018/\""
   ]
  },
  {
   "cell_type": "code",
   "execution_count": 13,
   "id": "bb3b2abe",
   "metadata": {},
   "outputs": [
    {
     "data": {
      "text/plain": [
       "[<astropy.io.fits.hdu.image.PrimaryHDU object at 0x000001A62A09B250>, <astropy.io.fits.hdu.table.BinTableHDU object at 0x000001A63341BFD0>]"
      ]
     },
     "execution_count": 13,
     "metadata": {},
     "output_type": "execute_result"
    }
   ],
   "source": [
    "lc.to_fits(path = dir_save + 'LP261-75B_Manj2018.fits')"
   ]
  },
  {
   "cell_type": "code",
   "execution_count": 14,
   "id": "0d7ab97c",
   "metadata": {},
   "outputs": [],
   "source": [
    "with fits.open(dir_save + 'LP261-75B_Manj2018.fits', mode = 'update') as f:\n",
    "    f[0].header['OBJECT'] = Object\n",
    "    f[0].header['SPECTYPE'] = SpectralType\n",
    "    f[0].header['DATE_OBS'] = Date_obs\n",
    "    f[0].header['SPECBAND'] = Band_obs\n",
    "    f[0].header['TSTART'] = TSTART\n",
    "    f[0].header['TSTOP'] = TSTOP\n",
    "    f[0].header['TIMESYS'] = 'mjd'\n",
    "    f[0].header['TELESCOP'] = Telescope\n",
    "    f[0].header['INSTRUME'] = Instrument\n",
    "    f[0].header['FILTER'] = filter1\n",
    "    f[0].header['VOREF'] = Reference\n",
    "    f[0].header['RA_OBJ'] = RA\n",
    "    f[0].header['DEC_OBJ'] = DEC\n",
    "    f[0].header['JMAG'] = Jmag\n",
    "    f[0].header['HMAG'] = Hmag\n",
    "    f[0].header['KMAG'] = Kmag"
   ]
  },
  {
   "cell_type": "code",
   "execution_count": 15,
   "id": "ce69bdbf",
   "metadata": {},
   "outputs": [
    {
     "data": {
      "text/plain": [
       "<Axes: xlabel='Time', ylabel='Flux'>"
      ]
     },
     "execution_count": 15,
     "metadata": {},
     "output_type": "execute_result"
    },
    {
     "data": {
      "image/png": "[encoded data removed]",
      "text/plain": [
       "<Figure size 848.5x400 with 1 Axes>"
      ]
     },
     "metadata": {},
     "output_type": "display_data"
    }
   ],
   "source": [
    "bc = read_generic_lightcurve(dir_save + 'LP261-75B_Manj2018.fits', time_format = 'mjd')\n",
    "bc.scatter()"
   ]
  },
  {
   "cell_type": "code",
   "execution_count": null,
   "id": "9fdffa97",
   "metadata": {},
   "outputs": [],
   "source": []
  }
 ],
 "metadata": {
  "kernelspec": {
   "display_name": "Python 3 (ipykernel)",
   "language": "python",
   "name": "python3"
  },
  "language_info": {
   "codemirror_mode": {
    "name": "ipython",
    "version": 3
   },
   "file_extension": ".py",
   "mimetype": "text/x-python",
   "name": "python",
   "nbconvert_exporter": "python",
   "pygments_lexer": "ipython3",
   "version": "3.10.9"
  }
 },
 "nbformat": 4,
 "nbformat_minor": 5
}
