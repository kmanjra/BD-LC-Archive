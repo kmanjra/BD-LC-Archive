{
 "cells": [
  {
   "cell_type": "code",
   "execution_count": 1,
   "id": "8ff23236",
   "metadata": {},
   "outputs": [],
   "source": [
    "import pandas as pd\n",
    "import numpy as np\n",
    "import scipy\n",
    "from scipy import io\n",
    "from scipy.stats import mannwhitneyu\n",
    "from scipy.stats import wilcoxon\n",
    "import os\n",
    "\n",
    "import matplotlib\n",
    "import matplotlib.pyplot as plt\n",
    "import matplotlib.gridspec as gridspec\n",
    "from matplotlib.animation import FuncAnimation\n",
    "import glob\n",
    "import random\n",
    "\n",
    "from scipy.optimize import curve_fit\n",
    "\n",
    "from astropy.io import fits\n",
    "from astropy.time import Time\n",
    "from astropy import units as u\n",
    "import scipy.integrate as integrate\n",
    "import lightkurve\n",
    "\n",
    "from matplotlib.path import Path\n",
    "import matplotlib.patches as patches\n",
    "%matplotlib inline\n",
    "\n",
    "import math\n",
    "import datetime as dt\n",
    "import lightkurve.io as l\n",
    "from lightkurve.io.generic import read_generic_lightcurve"
   ]
  },
  {
   "cell_type": "code",
   "execution_count": 2,
   "id": "03320370",
   "metadata": {},
   "outputs": [],
   "source": [
    "def clean_text(str):\n",
    "    s = result = ''.join([i for i in archivo[20:] if not i.isdigit()])\n",
    "    t = s.replace('_curves.txt', '')\n",
    "    u = t.replace('+', '')\n",
    "    u = u.replace('-', '')\n",
    "    if 'KsJs' in u:\n",
    "        u = u.replace('KsJs', 'Ks Js')\n",
    "    if u[0] == '_':\n",
    "        u = u[1:]\n",
    "    if 'AB' in u:\n",
    "        u = u.replace('AB', '')\n",
    "    return u"
   ]
  },
  {
   "cell_type": "code",
   "execution_count": 3,
   "id": "967a30e1",
   "metadata": {},
   "outputs": [],
   "source": [
    "# Function is created in order to eliminate characters which are not Printable ASCII characters that appear \n",
    "# from the data transfer from repository\n",
    "def textcleaner(str1):\n",
    "    w = str(str1).split('\\n')[0]\n",
    "    x = str(w)\n",
    "    y = str(x.split('  ')[2])\n",
    "    z = y.replace(\"'\", \"\")\n",
    "    return z"
   ]
  },
  {
   "cell_type": "code",
   "execution_count": 4,
   "id": "25af63d5",
   "metadata": {},
   "outputs": [],
   "source": [
    "# Function is created in order to eliminate characters which are not Printable ASCII characters that appear \n",
    "# from the data transfer from repository\n",
    "def numcleaner(str1):\n",
    "    w = str(str1).split('\\n')[0]\n",
    "    x = str(w)\n",
    "    x.split('  ')\n",
    "    if ' NaN' in x:\n",
    "        y = str(x.split('  ')[1])\n",
    "        z = y.replace(\"'\", \"\")\n",
    "        a = z.replace(\" \", \"\")\n",
    "        return a\n",
    "    else:\n",
    "        w = str(str1).split('\\n')[0]\n",
    "        x = str(w)\n",
    "        y = str(x.split('  ')[2])\n",
    "        z = y.replace(\"'\", \"\")\n",
    "        return z"
   ]
  },
  {
   "cell_type": "code",
   "execution_count": 5,
   "id": "e0bf2a25",
   "metadata": {},
   "outputs": [],
   "source": [
    "#repository like the one we have online\n",
    "general_data = pd.read_csv('/Users/kmanj/FITS_BD_Files/Repository_Data/Repository.csv', encoding ='latin1')"
   ]
  },
  {
   "cell_type": "code",
   "execution_count": 6,
   "id": "7e3b90bb",
   "metadata": {},
   "outputs": [],
   "source": [
    "dir = '/Users/kmanj/Manjavacas Research/Metchev_2015/Metchev2015/NV/'\n",
    "dir_save = '/Users/kmanj/FITS_BD_Files/Data/Metchev_2015/NV/'"
   ]
  },
  {
   "cell_type": "code",
   "execution_count": 7,
   "id": "8506e9fc",
   "metadata": {},
   "outputs": [
    {
     "name": "stdout",
     "output_type": "stream",
     "text": [
      "['SDSS1416_mainbinA0001quad01.txt', 'ULAS1416_mainbinA0002quad01.txt']\n",
      "['SDSS1416_mainbinA0001quad01_ch2.txt', 'ULAS1416_mainbinA0002quad01_ch2.txt']\n"
     ]
    }
   ],
   "source": [
    "dwarfs_files = os.listdir(dir)\n",
    "#seperating the ch1 and ch2\n",
    "dwarf_dat_ch1 = [archive for archive in dwarfs_files if archive.endswith(\"1.txt\")]\n",
    "dwarf_dat_ch2 = [archive for archive in dwarfs_files if archive.endswith(\"ch2.txt\")]\n",
    "print(dwarf_dat_ch1)\n",
    "print(dwarf_dat_ch2)"
   ]
  },
  {
   "cell_type": "code",
   "execution_count": 8,
   "id": "b6919989",
   "metadata": {},
   "outputs": [],
   "source": [
    "new_name_file = ['SDSS J141624.08+134826.7', 'ULAS J141623.94+134836.3']\n",
    "new_name = ['SDSS J141624.08+134826.7', 'ULAS J141623.94+134836.3']"
   ]
  },
  {
   "cell_type": "markdown",
   "id": "a60e3c29",
   "metadata": {},
   "source": [
    "### Channel 1"
   ]
  },
  {
   "cell_type": "code",
   "execution_count": 22,
   "id": "42f2c974",
   "metadata": {},
   "outputs": [],
   "source": [
    "dwarfs_data = []\n",
    "for i in range(len(new_name_file)):\n",
    "    data = pd.read_csv(\"{}{}\".format(dir,dwarf_dat_ch1[i]), header=None, sep='\\t')\n",
    "    dwarfs_data.append(data)"
   ]
  },
  {
   "cell_type": "code",
   "execution_count": 23,
   "id": "9760da8b",
   "metadata": {
    "scrolled": false
   },
   "outputs": [
    {
     "data": {
      "text/plain": [
       "[             0         1\n",
       " 0     0.023493  1.000375\n",
       " 1     0.060611  1.001801\n",
       " 2     0.096985  0.999087\n",
       " 3     0.133392  1.002278\n",
       " 4     0.169778  0.999509\n",
       " ..         ...       ...\n",
       " 373  13.647043  0.998742\n",
       " 374  13.683428  1.002310\n",
       " 375  13.719801  1.000809\n",
       " 376  13.756186  0.999368\n",
       " 377  13.801679  0.999784\n",
       " \n",
       " [378 rows x 2 columns],\n",
       "              0         1\n",
       " 0     0.024226  0.999687\n",
       " 1     0.060611  0.987785\n",
       " 2     0.096985  0.986320\n",
       " 3     0.133392  1.004006\n",
       " 4     0.169778  0.979768\n",
       " ..         ...       ...\n",
       " 371  13.636122  1.003697\n",
       " 372  13.672506  1.006388\n",
       " 373  13.708891  0.992933\n",
       " 374  13.745276  1.008518\n",
       " 375  13.796221  1.007524\n",
       " \n",
       " [376 rows x 2 columns]]"
      ]
     },
     "execution_count": 23,
     "metadata": {},
     "output_type": "execute_result"
    }
   ],
   "source": [
    "dwarfs_data"
   ]
  },
  {
   "cell_type": "code",
   "execution_count": 24,
   "id": "21c647c5",
   "metadata": {},
   "outputs": [],
   "source": [
    "Reference = 'Metchev et al 2015 ApJ 799 154'\n",
    "Telescope = 'Spitzer Space Telescope'\n",
    "Instrument = 'Infrared Array Camera'\n",
    "Date_obs = 'Published January 27, 2015'\n",
    "Band_obs = 'Ch1'"
   ]
  },
  {
   "cell_type": "code",
   "execution_count": 25,
   "id": "f0b2b0e6",
   "metadata": {},
   "outputs": [],
   "source": [
    "Object = ['SDSS J141624.08+134826.7', 'ULAS J141623.94+134836.3']\n",
    "SpectralType = ['L5', 'T7,5']\n",
    "Jmag = ['13.148 +/- 0.025','17.259 +/- 0.017']\n",
    "Hmag = ['12.456 +/- 0.028','17.581 +/- 0.03']\n",
    "Kmag = ['12.114 +/- 0.023','18.933 +/- 0.244']\n",
    "RA = ['214.100355','214.100355']\n",
    "Dec = ['13.807318','13.807318']"
   ]
  },
  {
   "cell_type": "code",
   "execution_count": 26,
   "id": "824e2c9d",
   "metadata": {},
   "outputs": [],
   "source": [
    "name_files = []\n",
    "for i in range(len(dwarfs_data)):\n",
    "    lc = l.LightCurve(time = list(dwarfs_data[i][0]), flux = list(dwarfs_data[i][1]) * u.dimensionless_unscaled)\n",
    "    name = dir_save + Object[i]\n",
    "    contador = 1\n",
    "    while name + '_Ch1_Metc2015.fits' in name_files:\n",
    "        name = name + '_' + str(contador)\n",
    "        contador += 1\n",
    "    else:\n",
    "        lc.to_fits(path = name + '_Ch1_Metc2015.fits')\n",
    "        name_files.append(name + '_Ch1_Metc2015.fits')"
   ]
  },
  {
   "cell_type": "code",
   "execution_count": 27,
   "id": "9182957f",
   "metadata": {},
   "outputs": [],
   "source": [
    "for i in range(len(dwarfs_data)):\n",
    "    with fits.open(name_files[i], mode = 'update') as f:\n",
    "        f[0].header['OBJECT'] = Object[i]\n",
    "        f[0].header['SPECTYPE'] = SpectralType[i]\n",
    "        f[0].header['TIMESYS'] = 'mjd'\n",
    "        f[0].header['TELESCOP'] = Telescope\n",
    "        f[0].header['INSTRUME'] = Instrument\n",
    "        f[0].header['FILTER'] = Band_obs\n",
    "        f[0].header['VOREF'] = Reference\n",
    "        f[0].header['RA_OBJ'] = RA[i]\n",
    "        f[0].header['DEC_OBJ'] = Dec[i]\n",
    "        f[0].header['JMAG'] = Jmag[i] \n",
    "        f[0].header['HMAG'] = Hmag[i] \n",
    "        f[0].header['KMAG'] = Kmag[i] \n",
    "        f[1].header['TUNIT1'] = 'Hrs'"
   ]
  },
  {
   "cell_type": "raw",
   "id": "ed25450c",
   "metadata": {},
   "source": [
    "# Populate binary fits table\n",
    "\n",
    "hdu = fits.BinTableHDU.from_columns(\n",
    "    [fits.Column(name='Time', format='D', array=dwarfs_data[0][0]),\n",
    "        fits.Column(name='Flux', format='D', array=dwarfs_data[0][1])])\n",
    "    \n",
    "nombre_base_archivo = \"{}{}{}_Metc2015.fits\".format(dir_save, Object[0], '_ch1')\n",
    "    \n",
    "    \n",
    "    \n",
    "    # Check if the file already exists\n",
    "contador = 1\n",
    "nombre_archivo = nombre_base_archivo\n",
    "while os.path.exists(nombre_archivo):\n",
    "    nombre_archivo = \"{}_{}{}\".format(nombre_base_archivo, contador, '.fits')\n",
    "    contador += 1\n",
    "else:\n",
    "    hdu.writeto(nombre_archivo)\n",
    "    # Populate the header with relevant object information\n",
    "with fits.open(nombre_archivo, mode = 'update') as f:\n",
    "    f[0].header['OBJECT'] = Object[0]\n",
    "    f[0].header['SPECTYPE'] = SpectralType[0]\n",
    "    f[0].header['SPECBAND'] = Band_obs\n",
    "    f[0].header['DATE_OBS'] = Date_obs\n",
    "    f[0].header['TSTART'] = \n",
    "    f[0].header['TSTOP'] = \n",
    "    f[0].header['TIMESYS'] = 'MJD'\n",
    "    f[0].header['TIMEUNIT'] = 'd'\n",
    "    f[0].header['TELESCOP'] = 'Spitzer Space Telescope'\n",
    "    f[0].header['INSTRUME'] = Instrument\n",
    "    f[0].header['FILTER'] = Band_obs\n",
    "    f[0].header['VOREF'] = Reference\n",
    "    f[0].header['RA_OBJ'] = RA[0]\n",
    "    f[0].header['DEC_OBJ'] = Dec[0]\n",
    "    f[1].header['EXTNAME'] = 'LIGHTCURVE'\n",
    "    f[0].header['JMAG'] = Jmag[0]\n",
    "    f[0].header['HMAG'] = Hmag[0]\n",
    "    f[0].header['KMAG'] = Kmag[0]\n",
    "    f[0].header['t_unit_1'] = 'Hrs'\n",
    "    f[0].header['t_unit_2'] = 'Normalized Flux'\n"
   ]
  },
  {
   "cell_type": "raw",
   "id": "d71b5f60",
   "metadata": {},
   "source": [
    "# Populate binary fits table\n",
    "\n",
    "hdu = fits.BinTableHDU.from_columns(\n",
    "    [fits.Column(name='Time', format='D', array=dwarfs_data[1][0]),\n",
    "        fits.Column(name='Flux', format='D', array=dwarfs_data[1][1])])\n",
    "    \n",
    "nombre_base_archivo = \"{}{}{}_Metc2015.fits\".format(dir_save, Object[1], '_ch1')\n",
    "    \n",
    "    \n",
    "    \n",
    "    # Check if the file already exists\n",
    "contador = 1\n",
    "nombre_archivo = nombre_base_archivo\n",
    "while os.path.exists(nombre_archivo):\n",
    "    nombre_archivo = \"{}_{}{}\".format(nombre_base_archivo, contador, '.fits')\n",
    "    contador += 1\n",
    "else:\n",
    "    hdu.writeto(nombre_archivo)\n",
    "    # Populate the header with relevant object information\n",
    "with fits.open(nombre_archivo, mode = 'update') as f:\n",
    "    f[0].header['OBJECT'] = Object[1]\n",
    "    f[0].header['SPECTYPE'] = SpectralType[1]\n",
    "    f[0].header['SPECBAND'] = Band_obs\n",
    "    f[0].header['DATE_OBS'] = Date_obs\n",
    "    f[0].header['TSTART'] = \n",
    "    f[0].header['TSTOP'] = \n",
    "    f[0].header['TIMESYS'] = 'MJD'\n",
    "    f[0].header['TIMEUNIT'] = 'd'\n",
    "    f[0].header['TELESCOP'] = 'Spitzer Space Telescope'\n",
    "    f[0].header['INSTRUME'] = Instrument\n",
    "    f[0].header['FILTER'] = Band_obs\n",
    "    f[0].header['RA_OBJ'] = RA[1]\n",
    "    f[0].header['DEC_OBJ'] = Dec[1]\n",
    "    f[1].header['EXTNAME'] = 'LIGHTCURVE'\n",
    "    f[0].header['JMAG'] = Jmag[1]\n",
    "    f[0].header['HMAG'] = Hmag[1]\n",
    "    f[0].header['KMAG'] = Kmag[1]\n",
    "    f[0].header['t_unit_1'] = 'Hrs'\n",
    "    f[0].header['t_unit_2'] = 'Normalized Flux'"
   ]
  },
  {
   "cell_type": "markdown",
   "id": "d2c2a9dd",
   "metadata": {},
   "source": [
    "### Channel 2"
   ]
  },
  {
   "cell_type": "code",
   "execution_count": 16,
   "id": "5fe4a78e",
   "metadata": {},
   "outputs": [],
   "source": [
    "dwarfs_data = []\n",
    "for i in range(len(new_name_file)):\n",
    "    data = pd.read_csv(\"{}{}\".format(dir,dwarf_dat_ch2[i]), header=None, sep='\\t')\n",
    "    dwarfs_data.append(data)"
   ]
  },
  {
   "cell_type": "code",
   "execution_count": 17,
   "id": "d831b7c7",
   "metadata": {},
   "outputs": [
    {
     "data": {
      "text/plain": [
       "[             0         1\n",
       " 0    14.043651  1.000869\n",
       " 1    14.083677  0.999091\n",
       " 2    14.120085  0.998192\n",
       " 3    14.156447  1.001238\n",
       " 4    14.192843  1.000348\n",
       " ..         ...       ...\n",
       " 183  20.727736  1.000468\n",
       " 184  20.764109  0.999476\n",
       " 185  20.800495  1.001321\n",
       " 186  20.836868  1.001000\n",
       " 187  20.884186  1.001098\n",
       " \n",
       " [188 rows x 2 columns],\n",
       "              0         1\n",
       " 0    14.043651  1.004354\n",
       " 1    14.080044  1.009623\n",
       " 2    14.116441  1.002803\n",
       " 3    14.152815  0.992935\n",
       " 4    14.189199  0.997778\n",
       " ..         ...       ...\n",
       " 182  20.716803  0.999860\n",
       " 183  20.753199  1.003913\n",
       " 184  20.789585  1.009883\n",
       " 185  20.825958  1.001554\n",
       " 186  20.878721  0.997511\n",
       " \n",
       " [187 rows x 2 columns]]"
      ]
     },
     "execution_count": 17,
     "metadata": {},
     "output_type": "execute_result"
    }
   ],
   "source": [
    "dwarfs_data"
   ]
  },
  {
   "cell_type": "code",
   "execution_count": 18,
   "id": "89fe8cd3",
   "metadata": {},
   "outputs": [],
   "source": [
    "Reference = 'Metchev et al 2015 ApJ 799 154'\n",
    "Instrument = 'Infrared Array Camera'\n",
    "Date_obs = 'Published January 27, 2015'\n",
    "Band_obs = 'Ch2'"
   ]
  },
  {
   "cell_type": "code",
   "execution_count": 19,
   "id": "0e7ad23b",
   "metadata": {},
   "outputs": [],
   "source": [
    "Object = ['SDSS J141624.08+134826.7', 'ULAS J141623.94+134836.3']\n",
    "SpectralType = ['L5', 'T7,5']\n",
    "Jmag = ['13.148 +/- 0.025','17.259 +/- 0.017']\n",
    "Hmag = ['12.456 +/- 0.028','17.581 +/- 0.03']\n",
    "Kmag = ['12.114 +/- 0.023','18.933 +/- 0.244']\n",
    "RA = ['214.100355','214.100355']\n",
    "Dec = ['13.807318','13.807318']"
   ]
  },
  {
   "cell_type": "code",
   "execution_count": 20,
   "id": "4ca727ea",
   "metadata": {},
   "outputs": [],
   "source": [
    "name_files = []\n",
    "for i in range(len(dwarfs_data)):\n",
    "    lc = l.LightCurve(time = list(dwarfs_data[i][0]), flux = list(dwarfs_data[i][1]) * u.dimensionless_unscaled)\n",
    "    name = dir_save + Object[i]\n",
    "    contador = 1\n",
    "    while name + '_Ch2_Metc2015.fits' in name_files:\n",
    "        name = name + '_' + str(contador)\n",
    "        contador += 1\n",
    "    else:\n",
    "        lc.to_fits(path = name + '_Ch2_Metc2015.fits')\n",
    "        name_files.append(name + '_Ch2_Metc2015.fits')"
   ]
  },
  {
   "cell_type": "code",
   "execution_count": 21,
   "id": "d6e7bd0d",
   "metadata": {},
   "outputs": [],
   "source": [
    "for i in range(len(dwarfs_data)):\n",
    "    with fits.open(name_files[i], mode = 'update') as f:\n",
    "        f[0].header['OBJECT'] = Object[i]\n",
    "        f[0].header['SPECTYPE'] = SpectralType[i]\n",
    "        f[0].header['TIMESYS'] = 'mjd'\n",
    "        f[0].header['TELESCOP'] = Telescope\n",
    "        f[0].header['INSTRUME'] = Instrument\n",
    "        f[0].header['FILTER'] = Band_obs\n",
    "        f[0].header['VOREF'] = Reference\n",
    "        f[0].header['RA_OBJ'] = RA[i]\n",
    "        f[0].header['DEC_OBJ'] = Dec[i]\n",
    "        f[0].header['JMAG'] = Jmag[i] \n",
    "        f[0].header['HMAG'] = Hmag[i] \n",
    "        f[0].header['KMAG'] = Kmag[i] \n",
    "        f[1].header['TUNIT1'] = 'Hrs'"
   ]
  },
  {
   "cell_type": "raw",
   "id": "d41fee57",
   "metadata": {},
   "source": [
    "# Populate binary fits table\n",
    "\n",
    "hdu = fits.BinTableHDU.from_columns(\n",
    "    [fits.Column(name='Time', format='D', array=dwarfs_data[0][0]),\n",
    "        fits.Column(name='Flux', format='D', array=dwarfs_data[0][1])])\n",
    "    \n",
    "nombre_base_archivo = \"{}{}{}_Metc2015.fits\".format(dir_save, Object[0], '_ch2')\n",
    "    \n",
    "    \n",
    "    \n",
    "    # Check if the file already exists\n",
    "contador = 1\n",
    "nombre_archivo = nombre_base_archivo\n",
    "while os.path.exists(nombre_archivo):\n",
    "    nombre_archivo = \"{}_{}{}\".format(nombre_base_archivo, contador, '.fits')\n",
    "    contador += 1\n",
    "else:\n",
    "    hdu.writeto(nombre_archivo)\n",
    "    # Populate the header with relevant object information\n",
    "with fits.open(nombre_archivo, mode = 'update') as f:\n",
    "    f[0].header['OBJECT'] = Object[0]\n",
    "    f[0].header['SPECTYPE'] = SpectralType[0]\n",
    "    f[0].header['SPECBAND'] = Band_obs\n",
    "    f[0].header['DATE_OBS'] = Date_obs\n",
    "    f[0].header['TSTART'] = \n",
    "    f[0].header['TSTOP'] = \n",
    "    f[0].header['TIMESYS'] = 'MJD'\n",
    "    f[0].header['TIMEUNIT'] = 'd'\n",
    "    f[0].header['TELESCOP'] = 'Spitzer Space Telescope'\n",
    "    f[0].header['INSTRUME'] = Instrument\n",
    "    f[0].header['FILTER'] = Band_obs\n",
    "    f[0].header['VOREF'] = Reference\n",
    "    f[0].header['RA_OBJ'] = RA[0]\n",
    "    f[0].header['DEC_OBJ'] = Dec[0]\n",
    "    f[1].header['EXTNAME'] = 'LIGHTCURVE'\n",
    "    f[0].header['JMAG'] = Jmag[0]\n",
    "    f[0].header['HMAG'] = Hmag[0]\n",
    "    f[0].header['KMAG'] = Kmag[0]\n",
    "    f[0].header['t_unit_1'] = 'Hrs'\n",
    "    f[0].header['t_unit_2'] = 'Normalized Flux'\n"
   ]
  },
  {
   "cell_type": "raw",
   "id": "dcf7a5e0",
   "metadata": {},
   "source": [
    "# Populate binary fits table\n",
    "\n",
    "hdu = fits.BinTableHDU.from_columns(\n",
    "    [fits.Column(name='Time', format='D', array=dwarfs_data[1][0]),\n",
    "        fits.Column(name='Flux', format='D', array=dwarfs_data[1][1])])\n",
    "    \n",
    "nombre_base_archivo = \"{}{}{}_Metc2015.fits\".format(dir_save, Object[1], '_ch2')\n",
    "    \n",
    "    \n",
    "    \n",
    "    # Check if the file already exists\n",
    "contador = 1\n",
    "nombre_archivo = nombre_base_archivo\n",
    "while os.path.exists(nombre_archivo):\n",
    "    nombre_archivo = \"{}_{}{}\".format(nombre_base_archivo, contador, '.fits')\n",
    "    contador += 1\n",
    "else:\n",
    "    hdu.writeto(nombre_archivo)\n",
    "    # Populate the header with relevant object information\n",
    "with fits.open(nombre_archivo, mode = 'update') as f:\n",
    "    f[0].header['OBJECT'] = Object[1]\n",
    "    f[0].header['SPECTYPE'] = SpectralType[1]\n",
    "    f[0].header['SPECBAND'] = Band_obs\n",
    "    f[0].header['DATE_OBS'] = Date_obs\n",
    "    f[0].header['TSTART'] = \n",
    "    f[0].header['TSTOP'] = \n",
    "    f[0].header['TIMESYS'] = 'MJD'\n",
    "    f[0].header['TIMEUNIT'] = 'd'\n",
    "    f[0].header['TELESCOP'] = 'Spitzer Space Telescope'\n",
    "    f[0].header['INSTRUME'] = Instrument\n",
    "    f[0].header['FILTER'] = Band_obs\n",
    "    f[0].header['VOREF'] = Reference\n",
    "    f[0].header['RA_OBJ'] = RA[1]\n",
    "    f[0].header['DEC_OBJ'] = Dec[1]\n",
    "    f[1].header['EXTNAME'] = 'LIGHTCURVE'\n",
    "    f[0].header['JMAG'] = Jmag[1]\n",
    "    f[0].header['HMAG'] = Hmag[1]\n",
    "    f[0].header['KMAG'] = Kmag[1]\n",
    "    f[0].header['t_unit_1'] = 'Hrs'\n",
    "    f[0].header['t_unit_2'] = 'Normalized Flux'"
   ]
  }
 ],
 "metadata": {
  "kernelspec": {
   "display_name": "Python 3 (ipykernel)",
   "language": "python",
   "name": "python3"
  },
  "language_info": {
   "codemirror_mode": {
    "name": "ipython",
    "version": 3
   },
   "file_extension": ".py",
   "mimetype": "text/x-python",
   "name": "python",
   "nbconvert_exporter": "python",
   "pygments_lexer": "ipython3",
   "version": "3.10.9"
  }
 },
 "nbformat": 4,
 "nbformat_minor": 5
}
