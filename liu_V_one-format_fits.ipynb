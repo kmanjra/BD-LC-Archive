{
 "cells": [
  {
   "cell_type": "code",
   "execution_count": 1,
   "id": "c273aed1",
   "metadata": {},
   "outputs": [],
   "source": [
    "import pandas as pd\n",
    "import numpy as np\n",
    "import scipy\n",
    "from scipy import io\n",
    "from scipy.stats import mannwhitneyu\n",
    "from scipy.stats import wilcoxon\n",
    "import os\n",
    "\n",
    "import matplotlib\n",
    "import matplotlib.pyplot as plt\n",
    "import matplotlib.gridspec as gridspec\n",
    "from matplotlib.animation import FuncAnimation\n",
    "import glob\n",
    "import random\n",
    "\n",
    "from scipy.optimize import curve_fit\n",
    "\n",
    "from astropy.io import fits\n",
    "from astropy.time import Time\n",
    "from astropy import units as u\n",
    "import scipy.integrate as integrate\n",
    "import lightkurve\n",
    "\n",
    "from matplotlib.path import Path\n",
    "import matplotlib.patches as patches\n",
    "%matplotlib inline\n",
    "\n",
    "import math\n",
    "import datetime as dt\n",
    "import lightkurve.io as l\n",
    "from lightkurve.io.generic import read_generic_lightcurve"
   ]
  },
  {
   "cell_type": "code",
   "execution_count": 2,
   "id": "bdb02000",
   "metadata": {},
   "outputs": [],
   "source": [
    "def clean_text(str):\n",
    "    s = result = ''.join([i for i in archivo[20:] if not i.isdigit()])\n",
    "    t = s.replace('_curves.txt', '')\n",
    "    u = t.replace('+', '')\n",
    "    u = u.replace('-', '')\n",
    "    if 'KsJs' in u:\n",
    "        u = u.replace('KsJs', 'Ks Js')\n",
    "    if u[0] == '_':\n",
    "        u = u[1:]\n",
    "    if 'AB' in u:\n",
    "        u = u.replace('AB', '')\n",
    "    return u"
   ]
  },
  {
   "cell_type": "code",
   "execution_count": 3,
   "id": "2bc911a4",
   "metadata": {},
   "outputs": [],
   "source": [
    "# Function is created in order to eliminate characters which are not Printable ASCII characters that appear \n",
    "# from the data transfer from repository\n",
    "def textcleaner(str1):\n",
    "    w = str(str1).split('\\n')[0]\n",
    "    x = str(w)\n",
    "    y = str(x.split('  ')[2])\n",
    "    z = y.replace(\"'\", \"\")\n",
    "    if z == '-11.62963800\\xa0':\n",
    "        return z[:12]\n",
    "    else:\n",
    "        return z"
   ]
  },
  {
   "cell_type": "code",
   "execution_count": 4,
   "id": "7076a78a",
   "metadata": {},
   "outputs": [],
   "source": [
    "# Function is created in order to eliminate characters which are not Printable ASCII characters that appear \n",
    "# from the data transfer from repository\n",
    "def numcleaner(str1):\n",
    "    w = str(str1).split('\\n')[0]\n",
    "    x = str(w)\n",
    "    x.split('  ')\n",
    "    if ' NaN' in x:\n",
    "        y = str(x.split('  ')[1])\n",
    "        z = y.replace(\"'\", \"\")\n",
    "        a = z.replace(\" \", \"\")\n",
    "        return a\n",
    "    else:\n",
    "        w = str(str1).split('\\n')[0]\n",
    "        x = str(w)\n",
    "        y = str(x.split('  ')[2])\n",
    "        z = y.replace(\"'\", \"\")\n",
    "        return z"
   ]
  },
  {
   "cell_type": "code",
   "execution_count": 5,
   "id": "246aa92e",
   "metadata": {},
   "outputs": [],
   "source": [
    "#repository like the one we have online\n",
    "general_data = pd.read_csv('/Users/kmanj/FITS_BD_Files/Repository_Data/Liu_Repo.csv', encoding ='latin1')"
   ]
  },
  {
   "cell_type": "code",
   "execution_count": 6,
   "id": "c13b4781",
   "metadata": {},
   "outputs": [],
   "source": [
    "dir = '/Users/kmanj/Manjavacas Research/Liu_2024/Liu2024/variables/'\n",
    "dir_save = '/Users/kmanj/FITS_BD_Files/Data/Liu_2024/V/'"
   ]
  },
  {
   "cell_type": "code",
   "execution_count": 7,
   "id": "f7b6efb7",
   "metadata": {},
   "outputs": [],
   "source": [
    "dwarfs_files = os.listdir(dir)\n",
    "dwarf_dat = [archive for archive in dwarfs_files if archive.endswith(\".txt\")]\n",
    "dwarf_dat;"
   ]
  },
  {
   "cell_type": "code",
   "execution_count": 8,
   "id": "4f8ec4f9",
   "metadata": {},
   "outputs": [
    {
     "name": "stdout",
     "output_type": "stream",
     "text": [
      "['2022_02_11', '2022_02_14', '2022_02_14', '2022_10_09']\n"
     ]
    }
   ],
   "source": [
    "new_name_file = []\n",
    "new_name = []\n",
    "date_obs = []\n",
    "band_obs = []\n",
    "\n",
    "for archivo in dwarf_dat:\n",
    "    band_obs.append(clean_text(archivo))\n",
    "    \n",
    "for archivo in dwarf_dat:\n",
    "    date_obs.append(archivo[0:10])\n",
    "\n",
    "# Iterate over the elements of the first list.\n",
    "for archivo in dwarf_dat:\n",
    "    if 'W' in archivo:\n",
    "        if 'WISE' in archivo:\n",
    "            first_5_characteres = archivo[15:20]\n",
    "        else:\n",
    "            first_5_characteres = 'J' + archivo[12:16]\n",
    "    # Extract the first 5 characters of the file name\n",
    "    elif '2M' in archivo:\n",
    "        if '2MASS' in archivo:\n",
    "            first_5_characteres = archivo[16:21]\n",
    "        else:\n",
    "            first_5_characteres = 'J' + archivo[13:17]\n",
    "    elif 'SDSS' in archivo:\n",
    "        if 'SDSSJ' in archivo:\n",
    "            first_5_characteres = archivo[15:20]\n",
    "        else:\n",
    "            first_5_characteres = 'J' + archivo[15:19]\n",
    "    elif 'PSO' in archivo:\n",
    "        first_5_characteres = 'J1112'\n",
    "    else:\n",
    "        first_5_characteres = archivo[11:16]\n",
    "    \n",
    "    # Iterate over the elements of the second list.\n",
    "    for valor in general_data['Name_file']:\n",
    "        # Extract the first 5 characters of the reference value\n",
    "        valor = str(valor)\n",
    "        first_5_values = valor[:5]\n",
    "        \n",
    "        # Compare the first 5 characters of the two elements\n",
    "        if first_5_characteres == first_5_values:\n",
    "            # Modify the file name to the desired format\n",
    "            nuevo_nombre = valor + \".dat\"\n",
    "            # Add the new name to the new list\n",
    "            new_name.append(valor)\n",
    "            new_name_file.append(nuevo_nombre)\n",
    "            # Break the inner loop once a match is found.\n",
    "            break\n",
    "\n",
    "            \n",
    "new_name_file;\n",
    "new_name;\n",
    "print(date_obs)\n",
    "band_obs;"
   ]
  },
  {
   "cell_type": "code",
   "execution_count": 9,
   "id": "247dfc02",
   "metadata": {},
   "outputs": [],
   "source": [
    "#lecture of the data\n",
    "dwarfs_data = []\n",
    "for i in range(len(new_name_file)):\n",
    "    data = pd.read_csv(\"{}{}\".format(dir,dwarf_dat[i]), comment='#', header=None, sep=' ')\n",
    "    dwarfs_data.append(data)\n",
    "    "
   ]
  },
  {
   "cell_type": "code",
   "execution_count": 10,
   "id": "383a9424",
   "metadata": {
    "scrolled": false
   },
   "outputs": [],
   "source": [
    "dwarfs_data;"
   ]
  },
  {
   "cell_type": "code",
   "execution_count": 11,
   "id": "2d69364a",
   "metadata": {},
   "outputs": [],
   "source": [
    "Reference = 'Liu et. al 2024, RAS, 527, 3'\n",
    "Telescope = 'New Technology Telescope'\n",
    "Instrument = 'Son of Isaac (SOFI)'\n",
    "TSTART = 59508.036876\n",
    "TSTOP = 59512.157403"
   ]
  },
  {
   "cell_type": "code",
   "execution_count": 12,
   "id": "0927ee6c",
   "metadata": {},
   "outputs": [
    {
     "data": {
      "text/plain": [
       "['-11.62963800', '-20.672344', '-20.672344', '-1.87564']"
      ]
     },
     "execution_count": 12,
     "metadata": {},
     "output_type": "execute_result"
    }
   ],
   "source": [
    "Object = []\n",
    "SpectralType = []\n",
    "Jmag = []\n",
    "Hmag = []\n",
    "Kmag = []\n",
    "dJmag = []\n",
    "dHmag = []\n",
    "dKmag = []\n",
    "RA = []\n",
    "Dec = []\n",
    "\n",
    "\n",
    "\n",
    "for i in range(len(new_name_file)): \n",
    "    Object.append(textcleaner(general_data['Name'][general_data['Name_file'] == new_name[i]]))\n",
    "    SpectralType.append(textcleaner(general_data['SpT '][general_data['Name_file'] == new_name[i]]))\n",
    "    Jmag.append(numcleaner(general_data['J'][general_data['Name_file'] == new_name[i]]))\n",
    "    dJmag.append(numcleaner(general_data['dJ'][general_data['Name_file'] == new_name[i]]))\n",
    "    Hmag.append(numcleaner(general_data['H'][general_data['Name_file'] == new_name[i]]))\n",
    "    dHmag.append(numcleaner(general_data['dH'][general_data['Name_file'] == new_name[i]]))\n",
    "    Kmag.append(numcleaner(general_data['K'][general_data['Name_file'] == new_name[i]]))\n",
    "    dKmag.append(numcleaner(general_data['dK'][general_data['Name_file'] == new_name[i]]))\n",
    "    RA.append(textcleaner(general_data['RA'][general_data['Name_file'] == new_name[i]]))\n",
    "    Dec.append(textcleaner(general_data['DEC'][general_data['Name_file'] == new_name[i]]))\n",
    "Dec"
   ]
  },
  {
   "cell_type": "code",
   "execution_count": 13,
   "id": "cad44a49",
   "metadata": {
    "scrolled": false
   },
   "outputs": [],
   "source": [
    "name_files = []\n",
    "for i in range(len(dwarfs_data)):\n",
    "    lc = l.LightCurve(time = list(dwarfs_data[i][0]), flux = list(dwarfs_data[i][1]) * u.dimensionless_unscaled, flux_err = list(dwarfs_data[i][2]) * u.dimensionless_unscaled)\n",
    "    name = dir_save + Object[i]\n",
    "    contador = 1\n",
    "    while name + '_Liu2024.fits' in name_files:\n",
    "        name = name + '_' + str(contador)\n",
    "        contador += 1\n",
    "    else:\n",
    "        lc.to_fits(path = name + '_Liu2024.fits')\n",
    "        name_files.append(name + '_Liu2024.fits')"
   ]
  },
  {
   "cell_type": "code",
   "execution_count": 14,
   "id": "8a77f93a",
   "metadata": {},
   "outputs": [],
   "source": [
    "for i in range(len(dwarf_dat)):\n",
    "    with fits.open(name_files[i], mode = 'update') as f:\n",
    "        f[0].header['OBJECT'] = Object[i]\n",
    "        f[0].header['SPECTYPE'] = SpectralType[i]\n",
    "        f[0].header['TSTART'] = TSTART\n",
    "        f[0].header['TSTOP'] = TSTOP\n",
    "        f[0].header['DATE_OBS'] = date_obs[i]\n",
    "        f[0].header['TIMESYS'] = 'mjd'\n",
    "        f[0].header['TELESCOP'] = Telescope\n",
    "        f[0].header['INSTRUME'] = Instrument\n",
    "        f[0].header['FILTER'] = band_obs[i]\n",
    "        f[0].header['VOREF'] = Reference\n",
    "        f[0].header['RA_OBJ'] = RA[i]\n",
    "        f[0].header['DEC_OBJ'] = Dec[i]\n",
    "        f[0].header['JMAG'] = Jmag[i] + '+/-' + dJmag[i]\n",
    "        f[0].header['HMAG'] = Hmag[i] + '+/-' + dHmag[i]\n",
    "        f[0].header['KMAG'] = Kmag[i] + '+/-' + dKmag[i]\n",
    "        f[1].header['TUNIT1'] = 'Hrs'"
   ]
  },
  {
   "cell_type": "raw",
   "id": "378d91de",
   "metadata": {},
   "source": [
    "# Populate binary fits table\n",
    "for i in range(len(dwarfs_data)):\n",
    "    hdu = fits.BinTableHDU.from_columns(\n",
    "        [fits.Column(name='Time', format='D', array=dwarfs_data[i][0]),\n",
    "         fits.Column(name='Flux', format='D', array=dwarfs_data[i][1]),\n",
    "         fits.Column(name='eFlux', format='D', array=dwarfs_data[i][2])])\n",
    "    \n",
    "    nombre_base_archivo = \"{}{}_Liu2024.fits\".format(dir_save, Object[i])\n",
    "    \n",
    "    \n",
    "    \n",
    "    # Check if the file already exists\n",
    "    contador = 1\n",
    "    nombre_archivo = nombre_base_archivo\n",
    "    while os.path.exists(nombre_archivo):\n",
    "        nombre_archivo = \"{}_{}{}\".format(nombre_base_archivo, contador, '.fits')\n",
    "        contador += 1\n",
    "    else:\n",
    "        hdu.writeto(nombre_archivo)\n",
    "    # Populate the header with relevant object information\n",
    "    with fits.open(nombre_archivo, mode = 'update') as f:\n",
    "        f[0].header['OBJECT'] = Object[i]\n",
    "        f[0].header['SPECTYPE'] = SpectralType[i]\n",
    "        f[0].header['SPECBAND'] = band_obs[i]\n",
    "        f[0].header['DATE_OBS'] = date_obs[i]\n",
    "        f[0].header['TSTART'] = \n",
    "        f[0].header['TSTOP'] = \n",
    "        f[0].header['TIMESYS'] = 'MJD'\n",
    "        f[0].header['TIMEUNIT'] = 'd'\n",
    "        f[0].header['TELESCOP] = 'New Technology Telescope'\n",
    "        f[0].header['INSTRUME'] = Instrument\n",
    "        f[0].header['FILTER'] = '' Doesn't appear to display any\n",
    "        f[0].header['VOREF'] = Reference\n",
    "        f[0].header['RA_OBJ'] = \n",
    "        f[0].header['DEC_OBJ'] = \n",
    "        f[1].header['EXTNAME'] = 'LIGHTCURVE'\n",
    "        f[0].header['JMAG'] = f'{Jmag[i]} +/- {dJmag[i]}'\n",
    "        f[0].header['HMAG'] = f'{Hmag[i]} +/- {dHmag[i]}'\n",
    "        f[0].header['KMAG'] = f'{Kmag[i]} +/- {dKmag[i]}'\n",
    "        f[0].header['t_unit_1'] = 'Hrs'\n",
    "        f[0].header['t_unit_2'] = 'Relative Flux'"
   ]
  },
  {
   "cell_type": "code",
   "execution_count": null,
   "id": "a1873b7b",
   "metadata": {},
   "outputs": [],
   "source": []
  }
 ],
 "metadata": {
  "kernelspec": {
   "display_name": "Python 3 (ipykernel)",
   "language": "python",
   "name": "python3"
  },
  "language_info": {
   "codemirror_mode": {
    "name": "ipython",
    "version": 3
   },
   "file_extension": ".py",
   "mimetype": "text/x-python",
   "name": "python",
   "nbconvert_exporter": "python",
   "pygments_lexer": "ipython3",
   "version": "3.10.9"
  }
 },
 "nbformat": 4,
 "nbformat_minor": 5
}
