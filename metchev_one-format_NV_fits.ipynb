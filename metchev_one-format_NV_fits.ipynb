{
 "cells": [
  {
   "cell_type": "code",
   "execution_count": 1,
   "id": "8ff23236",
   "metadata": {},
   "outputs": [],
   "source": [
    "import pandas as pd\n",
    "import numpy as np\n",
    "import scipy\n",
    "from scipy import io\n",
    "from scipy.stats import mannwhitneyu\n",
    "from scipy.stats import wilcoxon\n",
    "import os\n",
    "\n",
    "import matplotlib\n",
    "import matplotlib.pyplot as plt\n",
    "import matplotlib.gridspec as gridspec\n",
    "from matplotlib.animation import FuncAnimation\n",
    "import glob\n",
    "import random\n",
    "\n",
    "from scipy.optimize import curve_fit\n",
    "\n",
    "from astropy.io import fits\n",
    "from astropy.time import Time\n",
    "from astropy import units as u\n",
    "import scipy.integrate as integrate\n",
    "import lightkurve\n",
    "\n",
    "from matplotlib.path import Path\n",
    "import matplotlib.patches as patches\n",
    "%matplotlib inline\n",
    "\n",
    "import math\n",
    "import datetime as dt\n",
    "import lightkurve.io as l\n",
    "from lightkurve.io.generic import read_generic_lightcurve"
   ]
  },
  {
   "cell_type": "code",
   "execution_count": 2,
   "id": "03320370",
   "metadata": {},
   "outputs": [],
   "source": [
    "def clean_text(str):\n",
    "    s = result = ''.join([i for i in archivo[20:] if not i.isdigit()])\n",
    "    t = s.replace('_curves.txt', '')\n",
    "    u = t.replace('+', '')\n",
    "    u = u.replace('-', '')\n",
    "    if 'KsJs' in u:\n",
    "        u = u.replace('KsJs', 'Ks Js')\n",
    "    if u[0] == '_':\n",
    "        u = u[1:]\n",
    "    if 'AB' in u:\n",
    "        u = u.replace('AB', '')\n",
    "    return u"
   ]
  },
  {
   "cell_type": "code",
   "execution_count": 3,
   "id": "967a30e1",
   "metadata": {},
   "outputs": [],
   "source": [
    "# Function is created in order to eliminate characters which are not Printable ASCII characters that appear \n",
    "# from the data transfer from repository\n",
    "def textcleaner(str1):\n",
    "    w = str(str1).split('\\n')[0]\n",
    "    x = str(w)\n",
    "    y = str(x.split('  ')[2])\n",
    "    z = y.replace(\"'\", \"\")\n",
    "    return z"
   ]
  },
  {
   "cell_type": "code",
   "execution_count": 4,
   "id": "25af63d5",
   "metadata": {},
   "outputs": [],
   "source": [
    "# Function is created in order to eliminate characters which are not Printable ASCII characters that appear \n",
    "# from the data transfer from repository\n",
    "def numcleaner(str1):\n",
    "    w = str(str1).split('\\n')[0]\n",
    "    x = str(w)\n",
    "    x.split('  ')\n",
    "    if ' NaN' in x:\n",
    "        y = str(x.split('  ')[1])\n",
    "        z = y.replace(\"'\", \"\")\n",
    "        a = z.replace(\" \", \"\")\n",
    "        return a\n",
    "    else:\n",
    "        w = str(str1).split('\\n')[0]\n",
    "        x = str(w)\n",
    "        y = str(x.split('  ')[2])\n",
    "        z = y.replace(\"'\", \"\")\n",
    "        return z"
   ]
  },
  {
   "cell_type": "code",
   "execution_count": 5,
   "id": "e0bf2a25",
   "metadata": {},
   "outputs": [],
   "source": [
    "#repository like the one we have online\n",
    "general_data = pd.read_csv('/Users/kmanj/FITS_BD_Files/Repository_Data/Repository.csv', encoding ='latin1')"
   ]
  },
  {
   "cell_type": "code",
   "execution_count": 6,
   "id": "7e3b90bb",
   "metadata": {},
   "outputs": [],
   "source": [
    "dir = '/Users/kmanj/Manjavacas Research/Metchev_2015/Metchev2015/Non-Variables/'\n",
    "dir_save = '/Users/kmanj/FITS_BD_Files/Data/Metchev_2015/NV/'"
   ]
  },
  {
   "cell_type": "code",
   "execution_count": 7,
   "id": "8506e9fc",
   "metadata": {},
   "outputs": [],
   "source": [
    "dwarfs_files = os.listdir(dir)\n",
    "#seperating the ch1 and ch2\n",
    "dwarf_dat_ch1 = [archive for archive in dwarfs_files if archive.endswith(\"1.txt\")]\n",
    "dwarf_dat_ch2 = [archive for archive in dwarfs_files if archive.endswith(\"ch2.txt\")]\n",
    "dwarf_dat_ch1;\n",
    "dwarf_dat_ch2;"
   ]
  },
  {
   "cell_type": "code",
   "execution_count": 8,
   "id": "b6919989",
   "metadata": {},
   "outputs": [],
   "source": [
    "new_name_file_ch1 = []\n",
    "new_name_ch1 = []\n",
    "\n",
    "# Iterate over the elements of the first list.\n",
    "for archivo in dwarf_dat_ch1:\n",
    "    if archivo.startswith('2M'):\n",
    "        # Extract the first 5 characters of the file name if 2MASS object\n",
    "        first_5_characteres = 'J' + str(archivo[2:6])\n",
    "    elif archivo.startswith('ROSS'):\n",
    "        first_5_characteres = 'J1300'\n",
    "    elif archivo.startswith('SDSS'):\n",
    "        first_5_characteres = 'J' + str(archivo[4:8])\n",
    "    elif archivo.startswith('ULAS'):\n",
    "        first_5_characteres = 'J1416'\n",
    "    \n",
    "    # Iterate over the elements of the second list.\n",
    "    for valor in general_data['Name_file']:\n",
    "        # Extract the first 5 characters of the reference value\n",
    "        valor = str(valor)\n",
    "        first_5_values = valor[:5]\n",
    "        \n",
    "        # Compare the first 5 characters of the two elements\n",
    "        if first_5_characteres == first_5_values:\n",
    "            # Modify the file name to the desired format\n",
    "            nuevo_nombre = valor + \".dat\"\n",
    "            # Add the new name to the new list\n",
    "            new_name_ch1.append(valor)\n",
    "            new_name_file_ch1.append(nuevo_nombre)\n",
    "            # Break the inner loop once a match is found.\n",
    "            break\n",
    "\n",
    "new_name_file_ch1;\n",
    "new_name_ch1;\n",
    "\n",
    "new_name_file_ch2 = []\n",
    "new_name_ch2 = []\n",
    "\n",
    "# Iterate over the elements of the first list.\n",
    "for archivo in dwarf_dat_ch2:\n",
    "    if archivo.startswith('2M'):\n",
    "        # Extract the first 5 characters of the file name if 2MASS object\n",
    "        first_5_characteres = 'J' + str(archivo[2:6])\n",
    "    elif archivo.startswith('ROSS'):\n",
    "        first_5_characteres = 'J1300'\n",
    "    elif archivo.startswith('SDSS'):\n",
    "        first_5_characteres = 'J' + str(archivo[4:8])\n",
    "    elif archivo.startswith('ULAS'):\n",
    "        first_5_characteres = 'J1416'\n",
    "    \n",
    "    # Iterate over the elements of the second list.\n",
    "    for valor in general_data['Name_file']:\n",
    "        # Extract the first 5 characters of the reference value\n",
    "        valor = str(valor)\n",
    "        first_5_values = valor[:5]\n",
    "        \n",
    "        # Compare the first 5 characters of the two elements\n",
    "        if first_5_characteres == first_5_values:\n",
    "            # Modify the file name to the desired format\n",
    "            nuevo_nombre = valor + \".dat\"\n",
    "            # Add the new name to the new list\n",
    "            new_name_ch2.append(valor)\n",
    "            new_name_file_ch2.append(nuevo_nombre)\n",
    "            # Break the inner loop once a match is found.\n",
    "            break\n",
    "\n",
    "new_name_file_ch2;\n",
    "new_name_ch2;"
   ]
  },
  {
   "cell_type": "markdown",
   "id": "a60e3c29",
   "metadata": {},
   "source": [
    "### Channel 1"
   ]
  },
  {
   "cell_type": "code",
   "execution_count": 9,
   "id": "42f2c974",
   "metadata": {},
   "outputs": [],
   "source": [
    "dwarfs_data = []\n",
    "for i in range(len(new_name_file_ch1)):\n",
    "    data = pd.read_csv(\"{}{}\".format(dir,dwarf_dat_ch1[i]), header=None, sep='\\t')\n",
    "    dwarfs_data.append(data)"
   ]
  },
  {
   "cell_type": "code",
   "execution_count": 31,
   "id": "9760da8b",
   "metadata": {
    "scrolled": false
   },
   "outputs": [],
   "source": [
    "dwarfs_data;"
   ]
  },
  {
   "cell_type": "code",
   "execution_count": 32,
   "id": "21c647c5",
   "metadata": {},
   "outputs": [],
   "source": [
    "Reference = 'Metchev et al 2015 ApJ 799 154'\n",
    "Instrument = 'Infrared Array Camera'\n",
    "Date_obs = 'Published January 27, 2015'\n",
    "Band_obs = 'Ch1'"
   ]
  },
  {
   "cell_type": "code",
   "execution_count": 33,
   "id": "f0b2b0e6",
   "metadata": {},
   "outputs": [],
   "source": [
    "Object = []\n",
    "SpectralType = []\n",
    "Jmag = []\n",
    "Hmag = []\n",
    "Kmag = []\n",
    "RA = []\n",
    "Dec = []\n",
    "dJmag = []\n",
    "dHmag = []\n",
    "dKmag = []\n",
    "\n",
    "\n",
    "for i in range(len(new_name_file_ch1)): \n",
    "    Object.append(textcleaner(general_data['Name'][general_data['Name_file'] == new_name_ch1[i]]))\n",
    "    SpectralType.append(textcleaner(general_data['SpT '][general_data['Name_file'] == new_name_ch1[i]]))\n",
    "    Jmag.append(textcleaner(general_data['J'][general_data['Name_file'] == new_name_ch1[i]]))\n",
    "    dJmag.append(numcleaner(general_data['dJ'][general_data['Name_file'] == new_name_ch1[i]]))\n",
    "    Hmag.append(numcleaner(general_data['H'][general_data['Name_file'] == new_name_ch1[i]]))\n",
    "    dHmag.append(numcleaner(general_data['dH'][general_data['Name_file'] == new_name_ch1[i]]))\n",
    "    Kmag.append(numcleaner(general_data['K'][general_data['Name_file'] == new_name_ch1[i]]))\n",
    "    dKmag.append(numcleaner(general_data['dK'][general_data['Name_file'] == new_name_ch1[i]]))\n",
    "    RA.append(textcleaner(general_data['RA'][general_data['Name_file'] == new_name_ch1[i]]))\n",
    "    Dec.append(textcleaner(general_data['DEC'][general_data['Name_file'] == new_name_ch1[i]]))"
   ]
  },
  {
   "cell_type": "code",
   "execution_count": 42,
   "id": "2b40ed51",
   "metadata": {},
   "outputs": [
    {
     "data": {
      "text/plain": [
       "['2MASSI J0328426+230205',\n",
       " '2MASS J04210718-6306022',\n",
       " '2MASS J05160945-0445499',\n",
       " '2MASSW J0820299+450031',\n",
       " '2MASS J09490860-1545485',\n",
       " '2MASS J10595185+3042059',\n",
       " '2MASS J11220826-3512363',\n",
       " '2MASS J12095613-1004008',\n",
       " '2MASSI J1726000+153819',\n",
       " '2MASSW J2224438-015852',\n",
       " '2MASSI J2254188+312349',\n",
       " 'Ross 458c',\n",
       " 'SDSS J085834.42+325627.7',\n",
       " 'SDSS J115013.17+052012.3',\n",
       " 'SDSS J125453.90-012247.5',\n",
       " 'SDSS J152039.82+354619.8',\n",
       " 'SDSS J154508.93+355527.3',\n",
       " 'SDSS J204317.69-155103.4',\n",
       " 'SDSS J205235.31-160929.8',\n",
       " 'SDSSp J224953.45+004404.2']"
      ]
     },
     "execution_count": 42,
     "metadata": {},
     "output_type": "execute_result"
    }
   ],
   "source": [
    "Object1"
   ]
  },
  {
   "cell_type": "code",
   "execution_count": 16,
   "id": "c06bc993",
   "metadata": {},
   "outputs": [
    {
     "data": {
      "text/plain": [
       "20"
      ]
     },
     "execution_count": 16,
     "metadata": {},
     "output_type": "execute_result"
    }
   ],
   "source": [
    "RA = [\n",
    "    52.177709,\n",
    "    65.279958,\n",
    "    79.039376,\n",
    "    125.124834,\n",
    "    147.285834,\n",
    "    164.96604,\n",
    "    170.5344,\n",
    "    182.484,\n",
    "    261.50029,\n",
    "    336.182541,\n",
    "    343.5788,\n",
    "    195.173925,\n",
    "    134.643,\n",
    "    177.555,\n",
    "    193.724709,\n",
    "    230.16558,\n",
    "    236.2872,\n",
    "    310.8237,\n",
    "    313.1465,\n",
    "    342.472709\n",
    "]\n",
    "\n",
    "Dec = [\n",
    "    23.03475,\n",
    "    -63.100625,\n",
    "    -4.763861,\n",
    "    45.00875,\n",
    "    -15.763472,\n",
    "    30.701639,\n",
    "    -35.2102,\n",
    "    -10.0671,\n",
    "    15.638611,\n",
    "    -1.981139,\n",
    "    31.3972,\n",
    "    12.354089,\n",
    "    32.9407,\n",
    "    5.3369,\n",
    "    -1.379833,\n",
    "    35.7725,\n",
    "    35.9245,\n",
    "    -15.8509,\n",
    "    -16.1585,\n",
    "    0.734611\n",
    "]\n",
    "len(RA)"
   ]
  },
  {
   "cell_type": "code",
   "execution_count": 14,
   "id": "f93148b6",
   "metadata": {},
   "outputs": [],
   "source": [
    "name_files = []\n",
    "for i in range(len(dwarfs_data)):\n",
    "    lc = l.LightCurve(time = list(dwarfs_data[i][0]), flux = list(dwarfs_data[i][1]) * u.dimensionless_unscaled)\n",
    "    name = dir_save + Object[i]\n",
    "    contador = 1\n",
    "    while name + '_Ch1_Metc2015.fits' in name_files:\n",
    "        name = name + '_' + str(contador)\n",
    "        contador += 1\n",
    "    else:\n",
    "        lc.to_fits(path = name + '_Ch1_Metc2015.fits')\n",
    "        name_files.append(name + '_Ch1_Metc2015.fits')"
   ]
  },
  {
   "cell_type": "code",
   "execution_count": 19,
   "id": "3623806c",
   "metadata": {},
   "outputs": [],
   "source": [
    "for i in range(len(dwarfs_data)):\n",
    "    with fits.open(name_files[i], mode = 'update') as f:\n",
    "        f[0].header['OBJECT'] = Object[i]\n",
    "        f[0].header['SPECTYPE'] = SpectralType[i]\n",
    "        f[0].header['TIMESYS'] = 'mjd'\n",
    "        f[0].header['TELESCOP'] = 'Spitzer Space Telescope'\n",
    "        f[0].header['INSTRUME'] = Instrument\n",
    "        f[0].header['FILTER'] = Band_obs\n",
    "        f[0].header['VOREF'] = Reference\n",
    "        f[0].header['RA_OBJ'] = RA[i]\n",
    "        f[0].header['DEC_OBJ'] = Dec[i]\n",
    "        f[0].header['JMAG'] = Jmag[i] + '+/-' + dJmag[i]\n",
    "        f[0].header['HMAG'] = Hmag[i] + '+/-' + dHmag[i]\n",
    "        f[0].header['KMAG'] = Kmag[i] + '+/-' + dKmag[i]\n",
    "        f[1].header['TUNIT1'] = 'Hrs'"
   ]
  },
  {
   "cell_type": "raw",
   "id": "104413c3",
   "metadata": {},
   "source": [
    "# Populate binary fits table\n",
    "for i in range(len(dwarfs_data)):\n",
    "    hdu = fits.BinTableHDU.from_columns(\n",
    "        [fits.Column(name='Time', format='D', array=dwarfs_data[i][0]),\n",
    "         fits.Column(name='Flux', format='D', array=dwarfs_data[i][1])])\n",
    "    \n",
    "    nombre_base_archivo = \"{}{}_Metc2015.fits\".format(dir_save, new_name_ch1[i])\n",
    "    \n",
    "    \n",
    "    \n",
    "    # Check if the file already exists\n",
    "    contador = 1\n",
    "    nombre_archivo = nombre_base_archivo\n",
    "    while os.path.exists(nombre_archivo):\n",
    "        nombre_archivo = \"{}_{}{}\".format(nombre_base_archivo, contador, '.fits')\n",
    "        contador += 1\n",
    "    else:\n",
    "        hdu.writeto(nombre_archivo)\n",
    "    # Populate the header with relevant object information\n",
    "    with fits.open(nombre_archivo, mode = 'update') as f:\n",
    "        f[0].header['OBJECT'] = Object[i]\n",
    "        f[0].header['SPECTYPE'] = SpectralType[i]\n",
    "        f[0].header['SPECBAND'] = Band_obs\n",
    "        f[0].header['DATE_OBS'] = Date_obs\n",
    "        f[0].header['TSTART'] = \n",
    "        f[0].header['TSTOP'] = \n",
    "        f[0].header['TIMESYS'] = 'MJD'\n",
    "        f[0].header['TIMEUNIT'] = 'd'\n",
    "        f[0].header['TELESCOP'] = 'Spitzer Space Telescope'\n",
    "        f[0].header['INSTRUME'] = Instrument\n",
    "        f[0].header['FILTER'] = Band_obs\n",
    "        f[0].header['VOREF'] = Reference\n",
    "        f[0].header['RA_OBJ'] = RA[i]\n",
    "        f[0].header['DEC_OBJ'] = Dec[i]\n",
    "        f[1].header['EXTNAME'] = 'LIGHTCURVE'\n",
    "        f[0].header['JMAG'] = f'{Jmag[i]} +/- {dJmag[i]}'\n",
    "        f[0].header['HMAG'] = f'{Hmag[i]} +/- {dHmag[i]}'\n",
    "        f[0].header['KMAG'] = f'{Kmag[i]} +/- {dKmag[i]}'\n",
    "        f[0].header['t_unit_1'] = 'Hrs'\n",
    "        f[0].header['t_unit_2'] = 'Normalized Flux'"
   ]
  },
  {
   "cell_type": "markdown",
   "id": "d2c2a9dd",
   "metadata": {},
   "source": [
    "### Channel 2"
   ]
  },
  {
   "cell_type": "code",
   "execution_count": 43,
   "id": "5fe4a78e",
   "metadata": {},
   "outputs": [],
   "source": [
    "dwarfs_data = []\n",
    "for i in range(len(new_name_file_ch2)):\n",
    "    data = pd.read_csv(\"{}{}\".format(dir,dwarf_dat_ch2[i]), header=None, sep='\\t')\n",
    "    dwarfs_data.append(data)"
   ]
  },
  {
   "cell_type": "code",
   "execution_count": 44,
   "id": "89fe8cd3",
   "metadata": {},
   "outputs": [],
   "source": [
    "Reference = 'Published in The Astrophysical Journal, Volume 799, Number 2: Metchev et. al 2015'\n",
    "Instrument = 'Infrared Array Camera '\n",
    "Date_obs = 'Published January 27, 2015'\n",
    "Band_obs = 'Ch2'\n",
    "Telescope = 'Spitzer Space Telescope'"
   ]
  },
  {
   "cell_type": "code",
   "execution_count": 45,
   "id": "0e7ad23b",
   "metadata": {},
   "outputs": [],
   "source": [
    "Object = []\n",
    "SpectralType = []\n",
    "Jmag = []\n",
    "Hmag = []\n",
    "Kmag = []\n",
    "RA = []\n",
    "Dec = []\n",
    "dJmag = []\n",
    "dHmag = []\n",
    "dKmag = []\n",
    "\n",
    "\n",
    "for i in range(len(new_name_file_ch2)): \n",
    "    Object.append(textcleaner(general_data['Name'][general_data['Name_file'] == new_name_ch2[i]]))\n",
    "    SpectralType.append(textcleaner(general_data['SpT '][general_data['Name_file'] == new_name_ch2[i]]))\n",
    "    Jmag.append(textcleaner(general_data['J'][general_data['Name_file'] == new_name_ch2[i]]))\n",
    "    dJmag.append(numcleaner(general_data['dJ'][general_data['Name_file'] == new_name_ch2[i]]))\n",
    "    Hmag.append(numcleaner(general_data['H'][general_data['Name_file'] == new_name_ch2[i]]))\n",
    "    dHmag.append(numcleaner(general_data['dH'][general_data['Name_file'] == new_name_ch2[i]]))\n",
    "    Kmag.append(numcleaner(general_data['K'][general_data['Name_file'] == new_name_ch2[i]]))\n",
    "    dKmag.append(numcleaner(general_data['dK'][general_data['Name_file'] == new_name_ch2[i]]))\n",
    "    RA.append(textcleaner(general_data['RA'][general_data['Name_file'] == new_name_ch2[i]]))\n",
    "    Dec.append(textcleaner(general_data['DEC'][general_data['Name_file'] == new_name_ch2[i]]))"
   ]
  },
  {
   "cell_type": "code",
   "execution_count": 46,
   "id": "5c567fa6",
   "metadata": {},
   "outputs": [
    {
     "data": {
      "text/plain": [
       "21"
      ]
     },
     "execution_count": 46,
     "metadata": {},
     "output_type": "execute_result"
    }
   ],
   "source": [
    "RA = [\n",
    "    52.177709,\n",
    "    65.279958,\n",
    "    79.039376,\n",
    "    125.124834,\n",
    "    147.285834,\n",
    "    164.96604,\n",
    "    170.5344,\n",
    "    182.484,\n",
    "    261.50029,\n",
    "    336.182541,\n",
    "    343.5788,\n",
    "    195.173925,\n",
    "    27.923126,\n",
    "    134.643,\n",
    "    177.555,\n",
    "    193.724709,\n",
    "    230.16558,\n",
    "    236.2872,\n",
    "    310.8237,\n",
    "    313.1465,\n",
    "    342.472709\n",
    "]\n",
    "\n",
    "Dec = [\n",
    "    23.03475,\n",
    "    -63.100625,\n",
    "    -4.763861,\n",
    "    45.00875,\n",
    "    -15.763472,\n",
    "    30.701639,\n",
    "    -35.2102,\n",
    "    -10.0671,\n",
    "    15.638611,\n",
    "    -1.981139,\n",
    "    31.3972,\n",
    "    12.354089,\n",
    "    12.741667,\n",
    "    32.9407,\n",
    "    5.3369,\n",
    "    -1.379833,\n",
    "    35.7725,\n",
    "    35.9245,\n",
    "    -15.8509,\n",
    "    -16.1585,\n",
    "    0.734611\n",
    "]\n",
    "len(RA)"
   ]
  },
  {
   "cell_type": "code",
   "execution_count": 47,
   "id": "21f7ddf9",
   "metadata": {
    "scrolled": false
   },
   "outputs": [
    {
     "data": {
      "text/plain": [
       "['2MASSI J0328426+230205',\n",
       " '2MASS J04210718-6306022',\n",
       " '2MASS J05160945-0445499',\n",
       " '2MASSW J0820299+450031',\n",
       " '2MASS J09490860-1545485',\n",
       " '2MASS J10595185+3042059',\n",
       " '2MASS J11220826-3512363',\n",
       " '2MASS J12095613-1004008',\n",
       " '2MASSI J1726000+153819',\n",
       " '2MASSW J2224438-015852',\n",
       " '2MASSI J2254188+312349',\n",
       " 'Ross 458c',\n",
       " 'SDSS J015141.69+124429.6',\n",
       " 'SDSS J085834.42+325627.7',\n",
       " 'SDSS J115013.17+052012.3',\n",
       " 'SDSS J125453.90-012247.5',\n",
       " 'SDSS J152039.82+354619.8',\n",
       " 'SDSS J154508.93+355527.3',\n",
       " 'SDSS J204317.69-155103.4',\n",
       " 'SDSS J205235.31-160929.8',\n",
       " 'SDSSp J224953.45+004404.2']"
      ]
     },
     "execution_count": 47,
     "metadata": {},
     "output_type": "execute_result"
    }
   ],
   "source": [
    "Object"
   ]
  },
  {
   "cell_type": "code",
   "execution_count": 48,
   "id": "50c17367",
   "metadata": {},
   "outputs": [
    {
     "data": {
      "text/plain": [
       "21"
      ]
     },
     "execution_count": 48,
     "metadata": {},
     "output_type": "execute_result"
    }
   ],
   "source": [
    "len(Object2)"
   ]
  },
  {
   "cell_type": "code",
   "execution_count": 50,
   "id": "cd192f69",
   "metadata": {},
   "outputs": [],
   "source": [
    "name_files = []\n",
    "for i in range(len(dwarfs_data)):\n",
    "    lc = l.LightCurve(time = list(dwarfs_data[i][0]), flux = list(dwarfs_data[i][1]) * u.dimensionless_unscaled)\n",
    "    name = dir_save + Object[i]\n",
    "    contador = 1\n",
    "    while name + '_Ch2_Metc2015.fits' in name_files:\n",
    "        name = name + '_' + str(contador)\n",
    "        contador += 1\n",
    "    else:\n",
    "        lc.to_fits(path = name + '_Ch2_Metc2015.fits')\n",
    "        name_files.append(name + '_Ch2_Metc2015.fits')"
   ]
  },
  {
   "cell_type": "code",
   "execution_count": 51,
   "id": "49fb2c50",
   "metadata": {},
   "outputs": [],
   "source": [
    "for i in range(len(dwarfs_data)):\n",
    "    with fits.open(name_files[i], mode = 'update') as f:\n",
    "        f[0].header['OBJECT'] = Object[i]\n",
    "        f[0].header['SPECTYPE'] = SpectralType[i]\n",
    "        f[0].header['TIMESYS'] = 'mjd'\n",
    "        f[0].header['TELESCOP'] = 'Spitzer Space Telescope'\n",
    "        f[0].header['INSTRUME'] = Instrument\n",
    "        f[0].header['FILTER'] = Band_obs\n",
    "        f[0].header['VOREF'] = Reference\n",
    "        f[0].header['RA_OBJ'] = RA[i]\n",
    "        f[0].header['DEC_OBJ'] = Dec[i]\n",
    "        f[0].header['JMAG'] = Jmag[i] + '+/-' + dJmag[i]\n",
    "        f[0].header['HMAG'] = Hmag[i] + '+/-' + dHmag[i]\n",
    "        f[0].header['KMAG'] = Kmag[i] + '+/-' + dKmag[i]\n",
    "        f[1].header['TUNIT1'] = 'Hrs'"
   ]
  },
  {
   "cell_type": "raw",
   "id": "cf1d346c",
   "metadata": {},
   "source": [
    "# Populate binary fits table\n",
    "for i in range(len(dwarfs_data)):\n",
    "    hdu = fits.BinTableHDU.from_columns(\n",
    "        [fits.Column(name='Time', format='D', array=dwarfs_data[i][0]),\n",
    "         fits.Column(name='Flux', format='D', array=dwarfs_data[i][1])])\n",
    "    \n",
    "    nombre_base_archivo = \"{}{}.fits\".format(dir_save, new_name_ch2[i])\n",
    "    \n",
    "    \n",
    "    \n",
    "    # Check if the file already exists\n",
    "    contador = 1\n",
    "    nombre_archivo = nombre_base_archivo\n",
    "    while os.path.exists(nombre_archivo):\n",
    "        nombre_archivo = \"{}_{}{}\".format(nombre_base_archivo, contador, '.fits')\n",
    "        contador += 1\n",
    "    else:\n",
    "        hdu.writeto(nombre_archivo)\n",
    "    # Populate the header with relevant object information\n",
    "    with fits.open(nombre_archivo, mode = 'update') as f:\n",
    "        f[0].header['OBJECT'] = Object[i]\n",
    "        f[0].header['SPECTYPE'] = SpectralType[i]\n",
    "        f[0].header['SPECBAND'] = Band_obs\n",
    "        f[0].header['DATE_OBS'] = Date_obs\n",
    "        f[0].header['TSTART'] = \n",
    "        f[0].header['TSTOP'] = \n",
    "        f[0].header['TIMESYS'] = 'MJD'\n",
    "        f[0].header['TIMEUNIT'] = 'd'\n",
    "        f[0].header['TELESCOP'] = 'Spitzer Space Telescope'\n",
    "        f[0].header['INSTRUME'] = Instrument\n",
    "        f[0].header['FILTER'] = Band_obs\n",
    "        f[0].header['VOREF'] = Reference\n",
    "        f[0].header['RA_OBJ'] = RA[i]\n",
    "        f[0].header['DEC_OBJ'] = Dec[i]\n",
    "        f[1].header['EXTNAME'] = 'LIGHTCURVE'\n",
    "        f[0].header['JMAG'] = f'{Jmag[i]} +/- {dJmag[i]}'\n",
    "        f[0].header['HMAG'] = f'{Hmag[i]} +/- {dHmag[i]}'\n",
    "        f[0].header['KMAG'] = f'{Kmag[i]} +/- {dKmag[i]}'\n",
    "        f[0].header['t_unit_1'] = 'Hrs'\n",
    "        f[0].header['t_unit_2'] = 'Normalized Flux'"
   ]
  }
 ],
 "metadata": {
  "kernelspec": {
   "display_name": "Python 3 (ipykernel)",
   "language": "python",
   "name": "python3"
  },
  "language_info": {
   "codemirror_mode": {
    "name": "ipython",
    "version": 3
   },
   "file_extension": ".py",
   "mimetype": "text/x-python",
   "name": "python",
   "nbconvert_exporter": "python",
   "pygments_lexer": "ipython3",
   "version": "3.10.9"
  }
 },
 "nbformat": 4,
 "nbformat_minor": 5
}
